{
 "cells": [
  {
   "cell_type": "markdown",
   "id": "3f820d60",
   "metadata": {},
   "source": [
    "# Q23 Split and Join"
   ]
  },
  {
   "cell_type": "code",
   "execution_count": null,
   "id": "5c1a0715",
   "metadata": {},
   "outputs": [],
   "source": [
    "#-- Split: Split a string into a list\n",
    "#-- Join: Join a list into a string"
   ]
  },
  {
   "cell_type": "code",
   "execution_count": null,
   "id": "461fa308",
   "metadata": {},
   "outputs": [],
   "source": [
    "def split_join(line):\n",
    "    line = line.split()\n",
    "    line = '-'.join(line)\n",
    "    return line\n",
    "\n",
    "if __name__ == '__main__':\n",
    "    print(split_join(\"Hello Rio 'rIo'\"))"
   ]
  }
 ],
 "metadata": {
  "language_info": {
   "name": "python"
  }
 },
 "nbformat": 4,
 "nbformat_minor": 5
}
