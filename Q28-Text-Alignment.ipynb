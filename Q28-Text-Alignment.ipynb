{
 "cells": [
  {
   "cell_type": "markdown",
   "id": "8b1dddc9",
   "metadata": {},
   "source": [
    "# Q28 Text Alignment"
   ]
  },
  {
   "cell_type": "markdown",
   "id": "27a6a499",
   "metadata": {},
   "source": [
    "You are given a partial code that is used for generating the HackerRank Logo of variable thickness.\n",
    "\n",
    "Your task is to replace the blank (______) with rjust, ljust or center.\n"
   ]
  },
  {
   "cell_type": "code",
   "execution_count": null,
   "id": "70942c8f",
   "metadata": {},
   "outputs": [],
   "source": [
    "# Replace all ______ with rjust, ljust or center.\n",
    "# This must be an odd number\n",
    "ip = int(input())\n",
    "ch = 'H'"
   ]
  },
  {
   "cell_type": "code",
   "execution_count": null,
   "id": "55046c86",
   "metadata": {},
   "outputs": [],
   "source": [
    "# Top cone ..\n",
    "'''\n",
    "    H    . 4 space - 1 H - 4 space\n",
    "   HHH   . 3 space - 3 H - 3 space\n",
    "  HHHHH  . 2 space - 5 H - 2 space\n",
    " HHHHHHH . 1 space - 7 H - 1 space\n",
    "HHHHHHHHH. 0 space - 9 H - 0 space\n",
    "'''\n",
    "for i in range(ip):  # 0,1,2,3,4\n",
    "    print((ch*i).rjust(ip-1) + ch + (ch*i).ljust(ip-1))\n"
   ]
  },
  {
   "cell_type": "code",
   "execution_count": null,
   "id": "bbc5d832",
   "metadata": {},
   "outputs": [],
   "source": [
    "# Top pillars ..\n",
    "'''\n",
    "2 space - 5 H - 3 space + 12 space - 5 H - 13 space\n",
    "  HHHHH               HHHHH             .\n",
    "  HHHHH               HHHHH             .\n",
    "  HHHHH               HHHHH             .\n",
    "  HHHHH               HHHHH             .\n",
    "  HHHHH               HHHHH             .\n",
    "  HHHHH               HHHHH             .\n",
    "'''\n",
    "for i in range(ip+1):  # 0,1,2,3,4,5\n",
    "    print((ch*ip).center(ip*2)+(ch*ip).center(ip*6))\n"
   ]
  },
  {
   "cell_type": "code",
   "execution_count": null,
   "id": "4b313b1b",
   "metadata": {},
   "outputs": [],
   "source": [
    "# Middle Belt ..\n",
    "'''\n",
    "2 space - 25 H - 3 space\n",
    "  HHHHHHHHHHHHHHHHHHHHHHHHH   .\n",
    "  HHHHHHHHHHHHHHHHHHHHHHHHH   .\n",
    "  HHHHHHHHHHHHHHHHHHHHHHHHH   .\n",
    "'''\n",
    "for i in range(ip//2+1):  # 0,1,2\n",
    "    print((ch*5*ip).center(ip*6))\n"
   ]
  },
  {
   "cell_type": "code",
   "execution_count": null,
   "id": "9d62f99a",
   "metadata": {},
   "outputs": [],
   "source": [
    "# Buttom pillars ..\n",
    "'''\n",
    "2 space - 5 H - 3 space + 12 space - 5 H - 13 space\n",
    "  HHHHH               HHHHH             .\n",
    "  HHHHH               HHHHH             .\n",
    "  HHHHH               HHHHH             .\n",
    "  HHHHH               HHHHH             .\n",
    "  HHHHH               HHHHH             .\n",
    "  HHHHH               HHHHH             .\n",
    "'''\n",
    "for i in range(ip+1):  # 0,1,2,3,4,5\n",
    "    print((ch*ip).center(ip*2)+(ch*ip).center(ip*6))\n"
   ]
  },
  {
   "cell_type": "code",
   "execution_count": null,
   "id": "d15fb607",
   "metadata": {},
   "outputs": [],
   "source": [
    "# Buttom cone ..\n",
    "'''\n",
    "                    HHHHHHHHH . 20 space - 9 H - 1 space\n",
    "                     HHHHHHH  . 21 space - 7 H - 2 space\n",
    "                      HHHHH   . 22 space - 5 H - 3 space\n",
    "                       HHH    . 23 space - 3 H - 4 space\n",
    "                        H     . 24 space - 1 H - 5 space\n",
    "'''\n",
    "for i in range(ip-1, -1, -1):  # 4,3,2,1,0\n",
    "    print(((ch*i).rjust(ip) + ch + (ch*i).ljust(ip)).rjust(ip*6))"
   ]
  },
  {
   "cell_type": "code",
   "execution_count": null,
   "id": "fffa2acf",
   "metadata": {},
   "outputs": [],
   "source": [
    "# for i in reversed(range(ip)):\n",
    "#   print(((ch*i).rjust(ip)+ ch + (ch*i).ljust(ip)).rjust(ip*6))\n",
    "\n",
    "\n",
    "# output .....\n",
    "'''\n",
    "input = 5\n",
    "    H    .\n",
    "   HHH   .\n",
    "  HHHHH  .\n",
    " HHHHHHH .\n",
    "HHHHHHHHH.\n",
    "  HHHHH               HHHHH              .\n",
    "  HHHHH               HHHHH              .\n",
    "  HHHHH               HHHHH              .\n",
    "  HHHHH               HHHHH              .\n",
    "  HHHHH               HHHHH              .\n",
    "  HHHHH               HHHHH              .\n",
    "  HHHHHHHHHHHHHHHHHHHHHHHHH   .\n",
    "  HHHHHHHHHHHHHHHHHHHHHHHHH   .\n",
    "  HHHHHHHHHHHHHHHHHHHHHHHHH   .\n",
    "  HHHHH               HHHHH              .\n",
    "  HHHHH               HHHHH              .\n",
    "  HHHHH               HHHHH              .\n",
    "  HHHHH               HHHHH              .\n",
    "  HHHHH               HHHHH              .\n",
    "  HHHHH               HHHHH              .\n",
    "                    HHHHHHHHH .\n",
    "                     HHHHHHH  .\n",
    "                      HHHHH   .\n",
    "                       HHH    .\n",
    "                        H     .\n",
    "'''\n"
   ]
  }
 ],
 "metadata": {
  "language_info": {
   "name": "python"
  }
 },
 "nbformat": 4,
 "nbformat_minor": 5
}
