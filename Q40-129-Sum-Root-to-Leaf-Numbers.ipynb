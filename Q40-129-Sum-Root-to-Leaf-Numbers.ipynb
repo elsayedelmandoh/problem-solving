{
 "cells": [
  {
   "cell_type": "markdown",
   "id": "312c9b4f",
   "metadata": {},
   "source": [
    "# Q40: 129. Sum Root to Leaf Numbers"
   ]
  },
  {
   "cell_type": "markdown",
   "id": "55000333",
   "metadata": {},
   "source": [
    "You are given the root of a binary tree containing digits from 0 to 9 only.\n",
    "\n",
    "Each root-to-leaf path in the tree represents a number.\n",
    "\n",
    "For example, the root-to-leaf path 1 -> 2 -> 3 represents the number 123.\n",
    "Return the total sum of all root-to-leaf numbers. Test cases are generated so that the answer will fit in a 32-bit integer.\n",
    "\n",
    "A leaf node is a node with no children."
   ]
  },
  {
   "cell_type": "markdown",
   "id": "dc92ea55",
   "metadata": {},
   "source": [
    "Example 1:\n",
    "\n",
    "Input: root = [1,2,3]\n",
    "Output: 25\n",
    "Explanation:\n",
    "The root-to-leaf path 1->2 represents the number 12.\n",
    "The root-to-leaf path 1->3 represents the number 13.\n",
    "Therefore, sum = 12 + 13 = 25."
   ]
  },
  {
   "cell_type": "markdown",
   "id": "ffff8322",
   "metadata": {},
   "source": [
    "Example 2:\n",
    "\n",
    "Input: root = [4,9,0,5,1]\n",
    "Output: 1026\n",
    "Explanation:\n",
    "The root-to-leaf path 4->9->5 represents the number 495.\n",
    "The root-to-leaf path 4->9->1 represents the number 491.\n",
    "The root-to-leaf path 4->0 represents the number 40.\n",
    "Therefore, sum = 495 + 491 + 40 = 1026."
   ]
  },
  {
   "cell_type": "markdown",
   "id": "a3c5bb3c",
   "metadata": {},
   "source": [
    "Constraints:\n",
    "\n",
    "The number of nodes in the tree is in the range [1, 1000].\n",
    "0 <= Node.val <= 9\n",
    "The depth of the tree will not exceed 10."
   ]
  },
  {
   "cell_type": "markdown",
   "id": "dea9e582",
   "metadata": {},
   "source": [
    "To solve the \"Sum Root to Leaf Numbers\" problem, we can use a depth-first traversal approach to calculate the sum of root-to-leaf numbers. "
   ]
  },
  {
   "cell_type": "markdown",
   "id": "bf211b8d",
   "metadata": {},
   "source": [
    "1. **Understand the problem:**\n",
    "   - We're given the root of a binary tree containing digits from 0 to 9 only.\n",
    "   - Each root-to-leaf path in the tree represents a number.\n",
    "   - We need to return the total sum of all root-to-leaf numbers."
   ]
  },
  {
   "cell_type": "markdown",
   "id": "ccf0d395",
   "metadata": {},
   "source": [
    "2. **Approach:**\n",
    "   - We can perform a depth-first traversal of the binary tree, keeping track of the current number formed from the root to the current node.\n",
    "   - When we reach a leaf node, we add the number formed to the total sum.\n",
    "   - We recursively traverse the left and right subtrees while updating the current number.\n"
   ]
  },
  {
   "cell_type": "markdown",
   "id": "9503836f",
   "metadata": {},
   "source": [
    "3. **Algorithm:**\n",
    "   - Initialize a variable `total_sum` to store the total sum of root-to-leaf numbers, initially set to 0.\n",
    "   - Define a recursive function `dfs(node, current_number)` to traverse the binary tree:\n",
    "     - Base case: If the current node is None, return.\n",
    "     - Update `current_number` by appending the value of the current node.\n",
    "     - If the current node is a leaf node, add `current_number` to `total_sum`.\n",
    "     - Recursively call `dfs` on the left and right subtrees with updated `current_number`.\n",
    "   - Call the `dfs` function with the root node and an empty string as the initial `current_number`.\n",
    "   - Return the `total_sum`."
   ]
  },
  {
   "cell_type": "markdown",
   "id": "3525e105",
   "metadata": {},
   "source": [
    "4. **Code Implementation in Python:**\n"
   ]
  },
  {
   "cell_type": "code",
   "execution_count": null,
   "id": "fe000991",
   "metadata": {},
   "outputs": [
    {
     "name": "stdout",
     "output_type": "stream",
     "text": [
      "25\n"
     ]
    }
   ],
   "source": [
    "# Definition for a binary tree node.\n",
    "class TreeNode:\n",
    "    def __init__(self, val=0, left=None, right=None):\n",
    "        self.val = val\n",
    "        self.left = left\n",
    "        self.right = right\n",
    "\n",
    "class Solution:\n",
    "    def sumNumbers(self, root: TreeNode) -> int:\n",
    "        def dfs(node, current_number):\n",
    "            if not node:\n",
    "                return\n",
    "            current_number += str(node.val)\n",
    "            if not node.left and not node.right:\n",
    "                nonlocal total_sum\n",
    "                total_sum += int(current_number)\n",
    "                return\n",
    "            dfs(node.left, current_number)\n",
    "            dfs(node.right, current_number)\n",
    "        \n",
    "        total_sum = 0\n",
    "        dfs(root, \"\")\n",
    "        return total_sum\n",
    "\n",
    "# Example usage:\n",
    "# Construct the binary tree\n",
    "root1 = TreeNode(1)\n",
    "root1.left = TreeNode(2)\n",
    "root1.right = TreeNode(3)\n",
    "\n",
    "# Create an instance of the Solution class\n",
    "solution = Solution()\n",
    "\n",
    "# Calculate the sum of root-to-leaf numbers\n",
    "print(solution.sumNumbers(root1))  # Output: 25"
   ]
  },
  {
   "cell_type": "markdown",
   "id": "0b81d7e1",
   "metadata": {},
   "source": [
    "5. **Complexity Analysis:**\n",
    "   - Time complexity: O(n) - We visit each node once during the depth-first traversal.\n",
    "   - Space complexity: O(h) - The recursion depth can be at most the height of the binary tree."
   ]
  }
 ],
 "metadata": {
  "language_info": {
   "name": "python"
  }
 },
 "nbformat": 4,
 "nbformat_minor": 5
}
