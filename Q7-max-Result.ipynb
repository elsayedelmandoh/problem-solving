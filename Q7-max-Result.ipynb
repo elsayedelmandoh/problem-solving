{
 "cells": [
  {
   "cell_type": "markdown",
   "id": "4ee3148c",
   "metadata": {},
   "source": [
    "# Q7 Leetcode - 9 july, 2022 - Medium"
   ]
  },
  {
   "cell_type": "code",
   "execution_count": null,
   "id": "1578dc00",
   "metadata": {},
   "outputs": [],
   "source": [
    "import heapq"
   ]
  },
  {
   "cell_type": "code",
   "execution_count": null,
   "id": "5af0198c",
   "metadata": {},
   "outputs": [],
   "source": [
    "class Solution:\n",
    "    def maxResult(self, nums, k):\n",
    "        n = len(nums)\n",
    "        D = [-float('inf')] * (n)\n",
    "        # stores (D[index], index), max heap\n",
    "        heap = [(-nums[0], 0)]\n",
    "        \n",
    "        D[0] = nums[0]\n",
    "        \n",
    "        for i in range(1, n):\n",
    "            # get max D value from before k steps\n",
    "            (maxValue, index) = heap[0]\n",
    "            \n",
    "            # if maxValue is from many steps before(index we can't jump from), abandon it\n",
    "\t\t\t# O(logN)\n",
    "            while index < i - k:\n",
    "                heapq.heappop(heap)\n",
    "                (maxValue, index) = heap[0]\n",
    "            \n",
    "            D[i] = -maxValue + nums[i]\n",
    "\t\t\t# O(logN)\n",
    "            heapq.heappush(heap, (-D[i], i))\n",
    "\n",
    "        return D[n-1]\n",
    "obj2 =Solution()\n",
    "print(obj2.maxResult([1,-1,-2,4,-7,3],2))"
   ]
  }
 ],
 "metadata": {
  "language_info": {
   "name": "python"
  }
 },
 "nbformat": 4,
 "nbformat_minor": 5
}
