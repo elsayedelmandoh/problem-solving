{
 "cells": [
  {
   "cell_type": "markdown",
   "metadata": {},
   "source": [
    "# Q44-1552-Magnetic-Force-Between-Two-Balls"
   ]
  },
  {
   "cell_type": "markdown",
   "metadata": {},
   "source": [
    "![EX1](Q44-1552-Magnetic-Force-Between-Two-Balls.JPG)"
   ]
  },
  {
   "cell_type": "markdown",
   "metadata": {},
   "source": [
    "### Steps to Solve the Problem\n",
    "\n",
    "1. **Understand the Problem Statement:**\n",
    "   - We have `n` baskets, each at a distinct position.\n",
    "   - We need to place `m` balls into these baskets.\n",
    "   - The goal is to maximize the minimum magnetic force between any two balls.\n",
    "\n",
    "2. **Constraints and Examples:**\n",
    "   - `2 <= n <= 10^5`\n",
    "   - `1 <= position[i] <= 10^9`\n",
    "   - All positions are distinct.\n",
    "   - `2 <= m <= position.length`\n",
    "\n",
    "3. **Plan:**\n",
    "   - **Sort the Positions:** The first step is to sort the array of basket positions.\n",
    "   - **Binary Search for the Maximum Minimum Force:** Use binary search to determine the largest possible minimum force between any two balls.\n",
    "   - **Check Feasibility:** For a given force, check if it's possible to place all `m` balls such that the minimum distance between any two balls is at least that force.\n",
    "\n",
    "4. **Algorithm Details:**\n",
    "   - **Sorting:** Sort the positions to facilitate easy checking of distances.\n",
    "   - **Binary Search:**\n",
    "     - The lower bound (`left`) is `1` (minimum possible force).\n",
    "     - The upper bound (`right`) is `position[n-1] - position[0]` (maximum possible force).\n",
    "     - For each mid-point in the binary search, check if we can place all `m` balls with at least `mid` distance apart.\n",
    "   - **Feasibility Check:**\n",
    "     - Start placing the first ball in the first position.\n",
    "     - For each subsequent ball, place it in the next position that is at least `mid` distance away from the last placed ball.\n",
    "     - If you can place all `m` balls this way, then `mid` is feasible.\n"
   ]
  },
  {
   "cell_type": "code",
   "execution_count": 1,
   "metadata": {},
   "outputs": [],
   "source": [
    "from typing import List\n",
    "\n",
    "class Solution:\n",
    "    def maxDistance(self, position: List[int], m: int) -> int:\n",
    "        def canPlaceBalls(min_dist):\n",
    "            count, last_position = 1, position[0]\n",
    "            for i in range(1, len(position)):\n",
    "                if position[i] - last_position >= min_dist:\n",
    "                    count += 1\n",
    "                    last_position = position[i]\n",
    "                    if count == m:\n",
    "                        return True\n",
    "            return False\n",
    "\n",
    "        position.sort()\n",
    "        left, right = 1, position[-1] - position[0]\n",
    "        result = 0\n",
    "\n",
    "        while left <= right:\n",
    "            mid = (left + right) // 2\n",
    "            if canPlaceBalls(mid):\n",
    "                result = mid\n",
    "                left = mid + 1\n",
    "            else:\n",
    "                right = mid - 1\n",
    "\n",
    "        return result"
   ]
  },
  {
   "cell_type": "code",
   "execution_count": 2,
   "metadata": {},
   "outputs": [
    {
     "name": "stdout",
     "output_type": "stream",
     "text": [
      "3\n",
      "999999999\n"
     ]
    }
   ],
   "source": [
    "# Test case 1\n",
    "position1 = [1, 2, 3, 4, 7]\n",
    "m1 = 3\n",
    "sol = Solution()\n",
    "print(sol.maxDistance(position1, m1))  # Expected output: 3\n",
    "\n",
    "# Test case 2\n",
    "position2 = [5, 4, 3, 2, 1, 1000000000]\n",
    "m2 = 2\n",
    "print(sol.maxDistance(position2, m2))  # Expected output: 999999999\n"
   ]
  },
  {
   "cell_type": "markdown",
   "metadata": {},
   "source": [
    "### Explanation of the Implementation:\n",
    "\n",
    "1. **Sorting:** We sort the `position` array.\n",
    "2. **Binary Search:** We perform a binary search on the possible values of the minimum distance.\n",
    "3. **Feasibility Check (`canPlaceBalls` function):**\n",
    "   - We attempt to place the balls such that each subsequent ball is placed at least `min_dist` away from the last placed ball.\n",
    "   - If we can place all `m` balls this way, the current `mid` is feasible, and we try for a larger distance.\n",
    "   - If we cannot place all `m` balls, we try a smaller distance.\n"
   ]
  }
 ],
 "metadata": {
  "kernelspec": {
   "display_name": "Python 3",
   "language": "python",
   "name": "python3"
  },
  "language_info": {
   "codemirror_mode": {
    "name": "ipython",
    "version": 3
   },
   "file_extension": ".py",
   "mimetype": "text/x-python",
   "name": "python",
   "nbconvert_exporter": "python",
   "pygments_lexer": "ipython3",
   "version": "3.11.4"
  }
 },
 "nbformat": 4,
 "nbformat_minor": 2
}
