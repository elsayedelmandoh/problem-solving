{
 "cells": [
  {
   "cell_type": "markdown",
   "id": "1a7425ff",
   "metadata": {},
   "source": [
    "# Q35 Merge the tools"
   ]
  },
  {
   "cell_type": "code",
   "execution_count": null,
   "id": "db31f394",
   "metadata": {},
   "outputs": [],
   "source": [
    "'''\n",
    "n = len(string)\n",
    "k = factor(n)\n",
    "m = n/k\n",
    "'''"
   ]
  },
  {
   "cell_type": "code",
   "execution_count": null,
   "id": "7852aa3c",
   "metadata": {},
   "outputs": [],
   "source": [
    "from collections import OrderedDict\n"
   ]
  },
  {
   "cell_type": "code",
   "execution_count": null,
   "id": "b59457ca",
   "metadata": {},
   "outputs": [],
   "source": [
    "\n",
    "def merge_the_tools(string,k): # AABCAAADA 3\n",
    "    n = len(string) # 9\n",
    "    m = int(n/k) # 3\n",
    "    result = []\n",
    "    for i in range(0,n,k): # 0 : 2 , 3 : 5 , 6 : 8\n",
    "        result.append(\"\".join(OrderedDict.fromkeys(string[i:i+k])))\n",
    "    print(\"\\n\".join(result))\n",
    "\n",
    "merge_the_tools('AABCAAADA',4)\n",
    "\n",
    "\n",
    "# chain : to merge two dict\n",
    "# from itertools import chain\n",
    "# from collections import OrderedDict\n",
    "\n",
    "# b = {'e':6,'f':7,'g':8,'h':9,'i':8}\n",
    "# a = {'a':1,'b':2,'c':3,'d':4,'e':5}\n",
    "\n",
    "# print(OrderedDict(chain(a.items(), b.items())))\n",
    "# OrderedDict([('a', 1), ('b', 2), ('c', 3), ('d', 4), ('e', 6), ('f', 7), ('g', 8), ('h', 9), ('i', 8)])\n",
    "# print({**a,**b})\n",
    "# {'a': 1, 'b': 2, 'c': 3, 'd': 4, 'e': 6, 'f': 7, 'g': 8, 'h': 9, 'i': 8}\n",
    "\n",
    "# e : '6' > override"
   ]
  }
 ],
 "metadata": {
  "language_info": {
   "name": "python"
  }
 },
 "nbformat": 4,
 "nbformat_minor": 5
}
