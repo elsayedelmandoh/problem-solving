{
 "cells": [
  {
   "cell_type": "markdown",
   "id": "ca75ab1d",
   "metadata": {},
   "source": [
    "# Q17 Itertools.combinations_with_replacement"
   ]
  },
  {
   "cell_type": "markdown",
   "id": "bbe25b1b",
   "metadata": {},
   "source": [
    "'''\n",
    "take input with split space\n",
    "EX: hack 22\n",
    "use function sorted to sort first part in input\n",
    "Ex: hack\n",
    "for \n",
    "'''"
   ]
  },
  {
   "cell_type": "code",
   "execution_count": null,
   "id": "078af613",
   "metadata": {},
   "outputs": [],
   "source": [
    "\n",
    "from itertools import combinations_with_replacement\n",
    "\n",
    "str,rep = input().split() # s = hack , k = 2\n",
    "print(str) # hack \n",
    "\n",
    "rep = int(rep) # convert k (str) to int\n",
    "\n",
    "str = [x for x in str] # convert s (str) to list\n",
    "print('befor sort:',str) # ['h', 'a', 'c', 'k']\n",
    "str.sort() # sort ascending order of elements\n",
    "print('after sort:',str) # ['a', 'c', 'h', 'k']\n",
    "\n",
    "lst = list(combinations_with_replacement(str,rep)) # create list l from combinations_with_replacement method \n",
    "print('befor l:',lst) # [('a', 'a'), ('a', 'c'), ('a', 'h'), ('a', 'k'), ('c', 'c'), ('c', 'h'), ('c', 'k'), ('h', 'h'), ('h', 'k'), ('k', 'k')]\n",
    "lst.sort() # sort ascending order of elements\n",
    "print('after l:',lst) # [('a', 'a'), ('a', 'c'), ('a', 'h'), ('a', 'k'), ('c', 'c'), ('c', 'h'), ('c', 'k'), ('h', 'h'), ('h', 'k'), ('k', 'k')]\n",
    "\n",
    "for i in lst: # loop through l \n",
    "    str = '' # create empty string s\n",
    "    print('s in loop 1:',str) # s in loop 1:\n",
    "\n",
    "    for rep in i: # loop through i \n",
    "        str+=rep # add k to s string \n",
    "        print('s in loop 2:',str) \n",
    "        '''\n",
    "        a\n",
    "        aa\n",
    "        a\n",
    "        ac\n",
    "        a\n",
    "        ah\n",
    "        a\n",
    "        ak\n",
    "        c\n",
    "        cc\n",
    "        c\n",
    "        ch\n",
    "        c\n",
    "        ck\n",
    "        h\n",
    "        hh\n",
    "        h\n",
    "        hk\n",
    "        k\n",
    "        kk\n",
    "        '''\n",
    "    print(str)\n",
    "    '''\n",
    "    aa\n",
    "    ac\n",
    "    ah\n",
    "    ak\n",
    "    cc\n",
    "    ch\n",
    "    ck\n",
    "    hh\n",
    "    hk\n",
    "    kk\n",
    "    '''"
   ]
  }
 ],
 "metadata": {
  "language_info": {
   "name": "python"
  }
 },
 "nbformat": 4,
 "nbformat_minor": 5
}
