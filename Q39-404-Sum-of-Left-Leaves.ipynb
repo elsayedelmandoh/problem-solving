{
 "cells": [
  {
   "cell_type": "markdown",
   "id": "77487106",
   "metadata": {},
   "source": [
    "# Q39: 404. Sum of Left Leaves"
   ]
  },
  {
   "cell_type": "markdown",
   "id": "aa7e6b87",
   "metadata": {},
   "source": [
    "Given the root of a binary tree, return the sum of all left leaves.\n",
    "\n",
    "A leaf is a node with no children. A left leaf is a leaf that is the left child of another node."
   ]
  },
  {
   "cell_type": "markdown",
   "id": "34004c03",
   "metadata": {},
   "source": [
    "Example 1:\n",
    "\n",
    "Input: root = [3,9,20,null,null,15,7]\n",
    "Output: 24\n",
    "Explanation: There are two left leaves in the binary tree, with values 9 and 15 respectively.\n",
    "Example 2:\n",
    "\n",
    "Input: root = [1]\n",
    "Output: 0"
   ]
  },
  {
   "cell_type": "markdown",
   "id": "9f6aabf8",
   "metadata": {},
   "source": [
    "Constraints:\n",
    "\n",
    "The number of nodes in the tree is in the range [1, 1000].\n",
    "-1000 <= Node.val <= 1000"
   ]
  },
  {
   "cell_type": "markdown",
   "id": "fdcc26e5",
   "metadata": {},
   "source": [
    "1. **Understand the problem:**\n",
    "   - We're given the root of a binary tree.\n",
    "   - We need to find and return the sum of all left leaves in the binary tree.\n",
    "   - A left leaf is a leaf node that is the left child of its parent."
   ]
  },
  {
   "cell_type": "markdown",
   "id": "e6de1d98",
   "metadata": {},
   "source": [
    "2. **Approach:**\n",
    "   - We can perform a depth-first traversal of the binary tree, keeping track of whether each node is a left child.\n",
    "   - If a node is a leaf node and a left child, we add its value to the sum.\n",
    "   - Otherwise, we recursively traverse its left and right subtrees.\n"
   ]
  },
  {
   "cell_type": "markdown",
   "id": "992843f0",
   "metadata": {},
   "source": [
    "3. **Algorithm:**\n",
    "   - Initialize a variable `total_sum` to store the sum of left leaves, initially set to 0.\n",
    "   - Define a recursive function `dfs(node, is_left)` to traverse the binary tree:\n",
    "     - Base case: If the current node is None, return.\n",
    "     - If the current node is a leaf node and a left child (`is_left` is True), add its value to `total_sum`.\n",
    "     - Recursively call `dfs` on the left and right subtrees with updated `is_left` values.\n",
    "   - Call the `dfs` function with the root node and False (since the root is not a left child).\n",
    "   - Return the `total_sum`.\n"
   ]
  },
  {
   "cell_type": "code",
   "execution_count": null,
   "id": "8bc782c2",
   "metadata": {},
   "outputs": [
    {
     "name": "stdout",
     "output_type": "stream",
     "text": [
      "24\n"
     ]
    }
   ],
   "source": [
    "# Definition for a binary tree node.\n",
    "class TreeNode:\n",
    "    def __init__(self, val=0, left=None, right=None):\n",
    "        self.val = val\n",
    "        self.left = left\n",
    "        self.right = right\n",
    "\n",
    "class Solution:\n",
    "    def sumOfLeftLeaves(self, root: TreeNode) -> int:\n",
    "        def dfs(node, is_left):\n",
    "            if not node:\n",
    "                return 0\n",
    "            if not node.left and not node.right and is_left:\n",
    "                return node.val\n",
    "            return dfs(node.left, True) + dfs(node.right, False)\n",
    "        \n",
    "        return dfs(root, False)\n",
    "\n",
    "# Example usage:\n",
    "# Construct the binary tree\n",
    "root = TreeNode(3)\n",
    "root.left = TreeNode(9)\n",
    "root.right = TreeNode(20)\n",
    "root.right.left = TreeNode(15)\n",
    "root.right.right = TreeNode(7)\n",
    "\n",
    "# Create an instance of the Solution class\n",
    "solution = Solution()\n",
    "\n",
    "# Calculate the sum of left leaves\n",
    "print(solution.sumOfLeftLeaves(root))  # Output: 24"
   ]
  },
  {
   "cell_type": "markdown",
   "id": "2bcf22a6",
   "metadata": {},
   "source": [
    "5. **Complexity Analysis:**\n",
    "   - Time complexity: O(n) - We visit each node once during the depth-first traversal.\n",
    "   - Space complexity: O(h) - The recursion depth can be at most the height of the binary tree."
   ]
  }
 ],
 "metadata": {
  "language_info": {
   "name": "python"
  }
 },
 "nbformat": 4,
 "nbformat_minor": 5
}
