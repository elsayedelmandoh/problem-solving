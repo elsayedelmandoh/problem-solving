{
 "cells": [
  {
   "cell_type": "markdown",
   "id": "47c0d62d",
   "metadata": {},
   "source": [
    "# Q38- Trapping Rain Water"
   ]
  },
  {
   "cell_type": "markdown",
   "id": "f6ed06d5",
   "metadata": {},
   "source": [
    "Hard\n",
    "\n",
    "Given n non-negative integers representing an elevation map where the width of each bar is 1, compute how much water it can trap after raining.\n",
    "Example 1:\n",
    "\n",
    "\n",
    "Input: height = [0,1,0,2,1,0,1,3,2,1,2,1]\n",
    "Output: 6\n",
    "Explanation: The above elevation map (black section) is represented by array [0,1,0,2,1,0,1,3,2,1,2,1]. In this case, 6 units of rain water (blue section) are being trapped.\n",
    "\n",
    "Example 2:\n",
    "\n",
    "Input: height = [4,2,0,3,2,5]\n",
    "Output: 9\n",
    " \n",
    "\n",
    "Constraints:\n",
    "\n",
    "n == height.length\n",
    "1 <= n <= 2 * 104\n",
    "0 <= height[i] <= 105"
   ]
  },
  {
   "cell_type": "markdown",
   "id": "4104e9ff",
   "metadata": {},
   "source": [
    "To solve the Trapping Rain Water problem, we can use a two-pointer approach. Here's a step-by-step guide to solving the problem:\n",
    "\n",
    "1. **Understand the problem:**\n",
    "   - We're given an array representing an elevation map, where the width of each bar is 1.\n",
    "   - We need to compute how much water can be trapped after raining.\n",
    "\n",
    "2. **Approach:**\n",
    "   - We can visualize this problem by observing that the amount of water trapped at any position depends on the heights of the bars to its left and right.\n",
    "   - For each position, the amount of water it can trap is determined by the minimum of the maximum heights of bars to its left and right, minus its own height.\n",
    "\n",
    "3. **Algorithm:**\n",
    "   - Initialize two pointers, left and right, pointing to the beginning and end of the array, respectively.\n",
    "   - Initialize two variables, maxLeft and maxRight, to keep track of the maximum heights encountered from the left and right sides, respectively.\n",
    "   - Initialize a variable to store the total trapped water, initially set to 0.\n",
    "   - Iterate through the array:\n",
    "     - Update maxLeft and maxRight to the maximum of their current values and the height at the corresponding pointer.\n",
    "     - Calculate the amount of water that can be trapped at the current position as the minimum of maxLeft and maxRight, minus the height at the current position.\n",
    "     - Add this amount to the total trapped water.\n",
    "   - Move the pointer with the smaller height towards the other pointer.\n",
    "   - Continue until the pointers meet.\n",
    "   - Return the total trapped water."
   ]
  },
  {
   "cell_type": "markdown",
   "id": "71ac9043",
   "metadata": {},
   "source": [
    "4. **Code Implementation in Python:**"
   ]
  },
  {
   "cell_type": "code",
   "execution_count": null,
   "id": "d5dc3c1c",
   "metadata": {},
   "outputs": [
    {
     "name": "stdout",
     "output_type": "stream",
     "text": [
      "6\n",
      "9\n"
     ]
    }
   ],
   "source": [
    "def trap(height):\n",
    "    left, right = 0, len(height) - 1\n",
    "    maxLeft, maxRight = 0, 0\n",
    "    water = 0\n",
    "    \n",
    "    while left < right:\n",
    "        if height[left] < height[right]:\n",
    "            if height[left] >= maxLeft:\n",
    "                maxLeft = height[left]\n",
    "            else:\n",
    "                water += maxLeft - height[left]\n",
    "            left += 1\n",
    "        else:\n",
    "            if height[right] >= maxRight:\n",
    "                maxRight = height[right]\n",
    "            else:\n",
    "                water += maxRight - height[right]\n",
    "            right -= 1\n",
    "    \n",
    "    return water\n",
    "\n",
    "# Example usage:\n",
    "height1 = [0,1,0,2,1,0,1,3,2,1,2,1]\n",
    "print(trap(height1))  # Output: 6\n",
    "\n",
    "height2 = [4,2,0,3,2,5]\n",
    "print(trap(height2))  # Output: 9"
   ]
  },
  {
   "cell_type": "markdown",
   "id": "a9135910",
   "metadata": {},
   "source": [
    "5. **Complexity Analysis:**\n",
    "   - Time complexity: O(n) - We only iterate through the array once.\n",
    "   - Space complexity: O(1) - We use only a constant amount of space for variables."
   ]
  }
 ],
 "metadata": {
  "language_info": {
   "name": "python"
  }
 },
 "nbformat": 4,
 "nbformat_minor": 5
}
