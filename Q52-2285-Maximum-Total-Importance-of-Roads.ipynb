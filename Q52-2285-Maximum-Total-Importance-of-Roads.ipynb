{
 "cells": [
  {
   "cell_type": "markdown",
   "metadata": {},
   "source": [
    "# Q52- 2285. Maximum Total Importance of Roads"
   ]
  },
  {
   "cell_type": "markdown",
   "metadata": {},
   "source": [
    "2285. Maximum Total Importance of Roads\n",
    "Medium\n",
    "Topics\n",
    "Companies\n",
    "Hint\n",
    "You are given an integer n denoting the number of cities in a country. The cities are numbered from 0 to n - 1.\n",
    "\n",
    "You are also given a 2D integer array roads where roads[i] = [ai, bi] denotes that there exists a bidirectional road connecting cities ai and bi.\n",
    "\n",
    "You need to assign each city with an integer value from 1 to n, where each value can only be used once. The importance of a road is then defined as the sum of the values of the two cities it connects.\n",
    "\n",
    "Return the maximum total importance of all roads possible after assigning the values optimally.\n",
    "\n",
    " \n",
    "\n",
    "Example 1:\n",
    "\n",
    "\n",
    "Input: n = 5, roads = [[0,1],[1,2],[2,3],[0,2],[1,3],[2,4]]\n",
    "Output: 43\n",
    "Explanation: The figure above shows the country and the assigned values of [2,4,5,3,1].\n",
    "- The road (0,1) has an importance of 2 + 4 = 6.\n",
    "- The road (1,2) has an importance of 4 + 5 = 9.\n",
    "- The road (2,3) has an importance of 5 + 3 = 8.\n",
    "- The road (0,2) has an importance of 2 + 5 = 7.\n",
    "- The road (1,3) has an importance of 4 + 3 = 7.\n",
    "- The road (2,4) has an importance of 5 + 1 = 6.\n",
    "The total importance of all roads is 6 + 9 + 8 + 7 + 7 + 6 = 43.\n",
    "It can be shown that we cannot obtain a greater total importance than 43.\n",
    "Example 2:\n",
    "\n",
    "\n",
    "Input: n = 5, roads = [[0,3],[2,4],[1,3]]\n",
    "Output: 20\n",
    "Explanation: The figure above shows the country and the assigned values of [4,3,2,5,1].\n",
    "- The road (0,3) has an importance of 4 + 5 = 9.\n",
    "- The road (2,4) has an importance of 2 + 1 = 3.\n",
    "- The road (1,3) has an importance of 3 + 5 = 8.\n",
    "The total importance of all roads is 9 + 3 + 8 = 20.\n",
    "It can be shown that we cannot obtain a greater total importance than 20.\n",
    " \n",
    "\n",
    "Constraints:\n",
    "\n",
    "2 <= n <= 5 * 104\n",
    "1 <= roads.length <= 5 * 104\n",
    "roads[i].length == 2\n",
    "0 <= ai, bi <= n - 1\n",
    "ai != bi\n",
    "There are no duplicate roads."
   ]
  },
  {
   "cell_type": "markdown",
   "metadata": {},
   "source": [
    "### Approach:\n",
    "\n",
    "1. **Calculate the Degree of Each City**:\n",
    "   - The degree of a city is defined as the number of roads connected to it. We can count this using a dictionary where keys are cities and values are their respective degrees.\n",
    "\n",
    "2. **Sort Cities Based on Degree**:\n",
    "   - Sort the cities in descending order based on their degree. This allows us to prioritize assigning higher values to cities that are more connected.\n",
    "\n",
    "3. **Assign Values to Cities**:\n",
    "   - Start assigning values from `n` down to `1` based on the sorted order of cities. This ensures that cities with higher degrees (more connections) receive higher values.\n",
    "\n",
    "4. **Calculate Total Importance**:\n",
    "   - Iterate through the list of roads. For each road connecting cities `a` and `b`, compute the importance as `values[a] + values[b]` and sum these values to get the total importance.\n",
    "\n",
    "5. **Edge Cases**:\n",
    "   - Handle cases where some cities might not have any roads connected to them by assigning them values after all others have been assigned.\n"
   ]
  },
  {
   "cell_type": "code",
   "execution_count": 1,
   "metadata": {},
   "outputs": [],
   "source": [
    "from collections import defaultdict\n",
    "from typing import List\n",
    "\n",
    "class Solution:\n",
    "    def maximumImportance(self, n: int, roads: List[List[int]]) -> int:\n",
    "        # Step 1: Calculate the degree of each city\n",
    "        degree = defaultdict(int)\n",
    "        for a, b in roads:\n",
    "            degree[a] += 1\n",
    "            degree[b] += 1\n",
    "        \n",
    "        # Step 2: Sort cities by their degree in descending order\n",
    "        sorted_cities = sorted(range(n), key=lambda x: degree[x], reverse=True)\n",
    "        \n",
    "        # Step 3: Assign values to cities based on their sorted order\n",
    "        values = [0] * n\n",
    "        current_value = n\n",
    "        for city in sorted_cities:\n",
    "            values[city] = current_value\n",
    "            current_value -= 1\n",
    "        \n",
    "        # Step 4: Calculate the total importance of all roads\n",
    "        total_importance = 0\n",
    "        for a, b in roads:\n",
    "            total_importance += values[a] + values[b]\n",
    "        \n",
    "        return total_importance"
   ]
  },
  {
   "cell_type": "code",
   "execution_count": 2,
   "metadata": {},
   "outputs": [
    {
     "name": "stdout",
     "output_type": "stream",
     "text": [
      "43\n",
      "20\n"
     ]
    }
   ],
   "source": [
    "solution = Solution()\n",
    "n1 = 5\n",
    "roads1 = [[0,1],[1,2],[2,3],[0,2],[1,3],[2,4]]\n",
    "print(solution.maximumImportance(n1, roads1))  # Output: 43\n",
    "\n",
    "n2 = 5\n",
    "roads2 = [[0,3],[2,4],[1,3]]\n",
    "print(solution.maximumImportance(n2, roads2))  # Output: 20"
   ]
  },
  {
   "cell_type": "markdown",
   "metadata": {},
   "source": [
    "### Explanation:\n",
    "\n",
    "- **Step 1**: We use a `defaultdict` to count the number of roads connected to each city (`degree`). This helps us understand the connectivity of each city.\n",
    "  \n",
    "- **Step 2**: We sort the cities based on their degrees in descending order (`sorted_cities`). This allows us to prioritize assigning higher values to cities that are more central in the road network.\n",
    "  \n",
    "- **Step 3**: We assign values to cities (`values`) starting from `n` down to `1` based on their position in the `sorted_cities` list. This ensures that cities with higher degrees (more connections) get higher values.\n",
    "  \n",
    "- **Step 4**: We calculate the total importance of all roads by iterating through the list of roads and summing up the values of the cities each road connects (`total_importance`)."
   ]
  }
 ],
 "metadata": {
  "kernelspec": {
   "display_name": "Python 3",
   "language": "python",
   "name": "python3"
  },
  "language_info": {
   "codemirror_mode": {
    "name": "ipython",
    "version": 3
   },
   "file_extension": ".py",
   "mimetype": "text/x-python",
   "name": "python",
   "nbconvert_exporter": "python",
   "pygments_lexer": "ipython3",
   "version": "3.11.4"
  }
 },
 "nbformat": 4,
 "nbformat_minor": 2
}
