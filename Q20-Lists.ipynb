{
 "cells": [
  {
   "cell_type": "markdown",
   "id": "ce6d78ca",
   "metadata": {},
   "source": [
    "# Q20 Lists"
   ]
  },
  {
   "cell_type": "code",
   "execution_count": null,
   "id": "7d6701e2",
   "metadata": {},
   "outputs": [],
   "source": [
    "N = int(input())\n",
    "command=[]\n",
    "for i in range(N):\n",
    "    command.append(input().split())\n",
    "\n",
    "result = []\n",
    "\n",
    "for i in range(N):\n",
    "    if command[i][0] == 'insert':\n",
    "        result.insert(int(command[i][1], int(command[i][2])))\n",
    "    \n",
    "    elif command[i][0] == 'print':\n",
    "        print(result)\n",
    "\n",
    "    elif command[i][0] == 'remove':\n",
    "        result.remove(int(command[i][1]))\n",
    "    \n",
    "    elif command[i][0] == 'append':\n",
    "        result.append(int(command[i][1]))\n",
    "\n",
    "    elif command[i][0] == 'sort':\n",
    "        result.sort()\n",
    "\n",
    "    elif command[i][0] == 'pop':\n",
    "        result.pop()\n",
    "    \n",
    "    elif command[i][0] == 'reverse':\n",
    "        result.reverse()"
   ]
  }
 ],
 "metadata": {
  "language_info": {
   "name": "python"
  }
 },
 "nbformat": 4,
 "nbformat_minor": 5
}
