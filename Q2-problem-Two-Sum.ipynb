{
 "cells": [
  {
   "cell_type": "markdown",
   "id": "9bc7b791",
   "metadata": {},
   "source": [
    "# Q2: Leetcode - 7 august, 2022 - Esay\n",
    "\n",
    "problem Two Sum\n",
    "\n",
    "create function that give array of integers nums and intger target from class solution"
   ]
  },
  {
   "cell_type": "code",
   "execution_count": null,
   "id": "aefb3db7",
   "metadata": {},
   "outputs": [],
   "source": [
    "class Solution(object):\n",
    "    def twoSum(self, nums, target):\n",
    "        \"\"\"\n",
    "        :type nums: List[int]\n",
    "        :type target: int\n",
    "        :rtype: List[int]\n",
    "        \"\"\"\n",
    "        for i in range(len(nums)):\n",
    "            for j in range(i+1, len(nums)):\n",
    "                if nums[i] + nums[j] == target:\n",
    "                    return [i, j]\n",
    "obj1 = Solution()\n",
    "print(obj1.twoSum([3,2,4],6))"
   ]
  }
 ],
 "metadata": {
  "language_info": {
   "name": "python"
  }
 },
 "nbformat": 4,
 "nbformat_minor": 5
}
