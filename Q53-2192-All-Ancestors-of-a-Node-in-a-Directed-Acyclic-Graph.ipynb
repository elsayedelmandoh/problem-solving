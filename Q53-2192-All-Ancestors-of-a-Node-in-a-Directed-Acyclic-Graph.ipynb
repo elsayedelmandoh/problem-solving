{
 "cells": [
  {
   "cell_type": "markdown",
   "metadata": {},
   "source": [
    "# Q53- 2192. All Ancestors of a Node in a Directed Acyclic Graph\n"
   ]
  },
  {
   "cell_type": "markdown",
   "metadata": {},
   "source": [
    "2192. All Ancestors of a Node in a Directed Acyclic Graph\n",
    "Medium\n",
    "Topics\n",
    "Companies\n",
    "Hint\n",
    "You are given a positive integer n representing the number of nodes of a Directed Acyclic Graph (DAG). The nodes are numbered from 0 to n - 1 (inclusive).\n",
    "\n",
    "You are also given a 2D integer array edges, where edges[i] = [fromi, toi] denotes that there is a unidirectional edge from fromi to toi in the graph.\n",
    "\n",
    "Return a list answer, where answer[i] is the list of ancestors of the ith node, sorted in ascending order.\n",
    "\n",
    "A node u is an ancestor of another node v if u can reach v via a set of edges.\n",
    "\n",
    " \n",
    "\n",
    "Example 1:\n",
    "\n",
    "\n",
    "Input: n = 8, edgeList = [[0,3],[0,4],[1,3],[2,4],[2,7],[3,5],[3,6],[3,7],[4,6]]\n",
    "Output: [[],[],[],[0,1],[0,2],[0,1,3],[0,1,2,3,4],[0,1,2,3]]\n",
    "Explanation:\n",
    "The above diagram represents the input graph.\n",
    "- Nodes 0, 1, and 2 do not have any ancestors.\n",
    "- Node 3 has two ancestors 0 and 1.\n",
    "- Node 4 has two ancestors 0 and 2.\n",
    "- Node 5 has three ancestors 0, 1, and 3.\n",
    "- Node 6 has five ancestors 0, 1, 2, 3, and 4.\n",
    "- Node 7 has four ancestors 0, 1, 2, and 3.\n",
    "Example 2:\n",
    "\n",
    "\n",
    "Input: n = 5, edgeList = [[0,1],[0,2],[0,3],[0,4],[1,2],[1,3],[1,4],[2,3],[2,4],[3,4]]\n",
    "Output: [[],[0],[0,1],[0,1,2],[0,1,2,3]]\n",
    "Explanation:\n",
    "The above diagram represents the input graph.\n",
    "- Node 0 does not have any ancestor.\n",
    "- Node 1 has one ancestor 0.\n",
    "- Node 2 has two ancestors 0 and 1.\n",
    "- Node 3 has three ancestors 0, 1, and 2.\n",
    "- Node 4 has four ancestors 0, 1, 2, and 3.\n",
    " \n",
    "\n",
    "Constraints:\n",
    "\n",
    "1 <= n <= 1000\n",
    "0 <= edges.length <= min(2000, n * (n - 1) / 2)\n",
    "edges[i].length == 2\n",
    "0 <= fromi, toi <= n - 1\n",
    "fromi != toi\n",
    "There are no duplicate edges.\n",
    "The graph is directed and acyclic."
   ]
  },
  {
   "cell_type": "markdown",
   "metadata": {},
   "source": [
    "\n",
    "### Approach:\n",
    "\n",
    "1. **Graph Representation**:\n",
    "   - Represent the graph using an adjacency list. This allows us to easily traverse the graph.\n",
    "\n",
    "2. **Topological Sort**:\n",
    "   - Perform a topological sort on the graph. This ensures that we process each node only after all its ancestors have been processed.\n",
    "\n",
    "3. **DFS to Find Ancestors**:\n",
    "   - For each node in topological order, perform a DFS to find all its ancestors. Maintain a set of ancestors for each node and propagate this information to its children.\n",
    "\n",
    "4. **Sort Ancestors**:\n",
    "   - After collecting all ancestors for each node, sort them in ascending order as required."
   ]
  },
  {
   "cell_type": "code",
   "execution_count": 1,
   "metadata": {},
   "outputs": [],
   "source": [
    "from collections import defaultdict, deque\n",
    "from typing import List\n",
    "\n",
    "class Solution:\n",
    "    def getAncestors(self, n: int, edges: List[List[int]]) -> List[List[int]]:\n",
    "        # Step 1: Represent the graph using an adjacency list\n",
    "        graph = defaultdict(list)\n",
    "        in_degree = [0] * n\n",
    "        for u, v in edges:\n",
    "            graph[u].append(v)\n",
    "            in_degree[v] += 1\n",
    "        \n",
    "        # Step 2: Perform topological sort using Kahn's algorithm (BFS approach)\n",
    "        topo_order = []\n",
    "        queue = deque([i for i in range(n) if in_degree[i] == 0])\n",
    "        while queue:\n",
    "            node = queue.popleft()\n",
    "            topo_order.append(node)\n",
    "            for neighbor in graph[node]:\n",
    "                in_degree[neighbor] -= 1\n",
    "                if in_degree[neighbor] == 0:\n",
    "                    queue.append(neighbor)\n",
    "        \n",
    "        # Step 3: Initialize ancestors list and perform DFS to find ancestors\n",
    "        ancestors = [set() for _ in range(n)]\n",
    "        for node in topo_order:\n",
    "            for neighbor in graph[node]:\n",
    "                ancestors[neighbor].update(ancestors[node])\n",
    "                ancestors[neighbor].add(node)\n",
    "        \n",
    "        # Step 4: Sort ancestors in ascending order and convert to list\n",
    "        result = [sorted(list(ancestor_set)) for ancestor_set in ancestors]\n",
    "        \n",
    "        return result"
   ]
  },
  {
   "cell_type": "code",
   "execution_count": 2,
   "metadata": {},
   "outputs": [
    {
     "name": "stdout",
     "output_type": "stream",
     "text": [
      "[[], [], [], [0, 1], [0, 2], [0, 1, 3], [0, 1, 2, 3, 4], [0, 1, 2, 3]]\n",
      "[[], [0], [0, 1], [0, 1, 2], [0, 1, 2, 3]]\n"
     ]
    }
   ],
   "source": [
    "solution = Solution()\n",
    "n1 = 8\n",
    "edges1 = [[0,3],[0,4],[1,3],[2,4],[2,7],[3,5],[3,6],[3,7],[4,6]]\n",
    "print(solution.getAncestors(n1, edges1))  # Output: [[],[],[],[0,1],[0,2],[0,1,3],[0,1,2,3,4],[0,1,2,3]]\n",
    "\n",
    "n2 = 5\n",
    "edges2 = [[0,1],[0,2],[0,3],[0,4],[1,2],[1,3],[1,4],[2,3],[2,4],[3,4]]\n",
    "print(solution.getAncestors(n2, edges2))  # Output: [[],[0],[0,1],[0,1,2],[0,1,2,3]]"
   ]
  },
  {
   "cell_type": "markdown",
   "metadata": {},
   "source": [
    "### Explanation:\n",
    "\n",
    "1. **Graph Representation**:\n",
    "   - We use a `defaultdict` of lists to represent the adjacency list of the graph. The `in_degree` array keeps track of the in-degrees of the nodes.\n",
    "\n",
    "2. **Topological Sort**:\n",
    "   - We use Kahn's algorithm (BFS) to perform a topological sort. This ensures that we process each node only after all its ancestors have been processed.\n",
    "\n",
    "3. **Finding Ancestors Using DFS**:\n",
    "   - For each node in topological order, we propagate the ancestors to its children. This ensures that each node accumulates the ancestors from all its predecessors.\n",
    "\n",
    "4. **Sorting Ancestors**:\n",
    "   - After collecting the ancestors for each node, we convert the sets to sorted lists as required by the problem statement."
   ]
  }
 ],
 "metadata": {
  "kernelspec": {
   "display_name": "Python 3",
   "language": "python",
   "name": "python3"
  },
  "language_info": {
   "codemirror_mode": {
    "name": "ipython",
    "version": 3
   },
   "file_extension": ".py",
   "mimetype": "text/x-python",
   "name": "python",
   "nbconvert_exporter": "python",
   "pygments_lexer": "ipython3",
   "version": "3.11.4"
  }
 },
 "nbformat": 4,
 "nbformat_minor": 2
}
