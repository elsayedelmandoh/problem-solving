{
 "cells": [
  {
   "cell_type": "markdown",
   "id": "4c0f8ea8",
   "metadata": {},
   "source": [
    "# Q6 Leetcode - 9 july, 2022 - Esay\n",
    "\n",
    "create Tribonacci() function "
   ]
  },
  {
   "cell_type": "code",
   "execution_count": null,
   "id": "70759c13",
   "metadata": {},
   "outputs": [],
   "source": [
    "class Solution():\n",
    "    def Tribonacci(self,n):\n",
    "        if n == 0:\n",
    "            return 0\n",
    "        if n == 1:\n",
    "            return 1\n",
    "        if n == 2:\n",
    "            return 1\n",
    "        return self.Tribonacci(n-1) + self.Tribonacci(n-2) + self.Tribonacci(n-3)\n",
    "obj1 = Solution()\n",
    "print(obj1.Tribonacci(25))"
   ]
  }
 ],
 "metadata": {
  "language_info": {
   "name": "python"
  }
 },
 "nbformat": 4,
 "nbformat_minor": 5
}
