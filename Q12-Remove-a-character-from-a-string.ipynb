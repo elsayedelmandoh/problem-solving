{
 "cells": [
  {
   "cell_type": "markdown",
   "id": "51f80155",
   "metadata": {},
   "source": [
    "# Q12 Remove a character from a string"
   ]
  },
  {
   "cell_type": "code",
   "execution_count": null,
   "id": "7d1fe3fe",
   "metadata": {},
   "outputs": [],
   "source": [
    "'''\n",
    "take char and string as input\n",
    "looop through the string\n",
    "if i == char lower or upper\n",
    "remove it from the string\n",
    "return the string\n",
    "'''"
   ]
  },
  {
   "cell_type": "code",
   "execution_count": null,
   "id": "4c856dbe",
   "metadata": {},
   "outputs": [],
   "source": [
    "def removeCharFrom(string,char):\n",
    "    for c in string:\n",
    "        if c == char.lower() or c == char.upper():\n",
    "            string = string.replace(c,\"\")\n",
    "    return string\n",
    "\n",
    "print(removeCharFrom(\"kHellkkKKKKkkko wokKkrldkk \",'k'))"
   ]
  },
  {
   "cell_type": "code",
   "execution_count": null,
   "id": "d0f52b71",
   "metadata": {},
   "outputs": [],
   "source": [
    "print(removeCharFrom(\"FHellffFFFFFo woFFFFFrldFFF \",'f'))"
   ]
  },
  {
   "cell_type": "code",
   "execution_count": null,
   "id": "445a7733",
   "metadata": {},
   "outputs": [],
   "source": [
    "print(removeCharFrom(\"Hell@@@@@@@@@o wo@@@@rld@@@ \",'@'))"
   ]
  },
  {
   "cell_type": "markdown",
   "id": "9426dd04",
   "metadata": {},
   "source": [
    "another way"
   ]
  },
  {
   "cell_type": "code",
   "execution_count": null,
   "id": "b64bf2e7",
   "metadata": {},
   "outputs": [],
   "source": [
    "def remove_char_from(word, c):\n",
    "  word_without_char = []\n",
    "  for char in word:\n",
    "    if char != c.lower() and char != c.upper():\n",
    "      word_without_char.append(char) \n",
    "  return \"\".join(word_without_char)"
   ]
  },
  {
   "cell_type": "markdown",
   "id": "5d32e4b0",
   "metadata": {},
   "source": [
    "another way"
   ]
  },
  {
   "cell_type": "code",
   "execution_count": null,
   "id": "76a05663",
   "metadata": {},
   "outputs": [],
   "source": [
    "def remove_char_from(word, c):\n",
    "    return ''.join(filter(lambda x: x != c.upper() and x != c.lower() , word))\n",
    "\n",
    "# Testing Ouput\n",
    "print(remove_char_from(\"ElddzeroD WebDD ddSchool\", \"d\"))  # Elzero Web School"
   ]
  },
  {
   "cell_type": "code",
   "execution_count": null,
   "id": "3b515170",
   "metadata": {},
   "outputs": [],
   "source": [
    "print(remove_char_from(\"ElxzeroX Web Sxchool\", \"x\"))  # Elzero Web School"
   ]
  },
  {
   "cell_type": "code",
   "execution_count": null,
   "id": "408d4c4d",
   "metadata": {},
   "outputs": [],
   "source": [
    "print(remove_char_from(\"Elzero@ Web@@ @@School\", \"@\"))  # Elzero Web School"
   ]
  }
 ],
 "metadata": {
  "language_info": {
   "name": "python"
  }
 },
 "nbformat": 4,
 "nbformat_minor": 5
}
