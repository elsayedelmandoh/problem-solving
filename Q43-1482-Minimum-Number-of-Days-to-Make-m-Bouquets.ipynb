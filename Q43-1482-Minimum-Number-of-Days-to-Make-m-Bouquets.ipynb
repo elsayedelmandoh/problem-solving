{
 "cells": [
  {
   "cell_type": "markdown",
   "metadata": {},
   "source": [
    "# Q43- 1482. Minimum Number of Days to Make m Bouquets"
   ]
  },
  {
   "cell_type": "markdown",
   "metadata": {},
   "source": [
    "### Problem Explanation\n",
    "\n",
    "You are given an integer array `bloomDay`, an integer `m`, and an integer `k`.\n",
    "\n",
    "- `bloomDay[i]` represents the day on which the `i-th` flower will bloom.\n",
    "- To create a bouquet, you need to use `k` adjacent flowers from the garden.\n",
    "- You need to make `m` bouquets from the garden.\n",
    "\n",
    "The goal is to find the minimum number of days required to be able to make `m` bouquets. If it's impossible to make `m` bouquets, return `-1`."
   ]
  },
  {
   "cell_type": "markdown",
   "metadata": {},
   "source": [
    "### Solution Approach\n",
    "\n",
    "To solve this problem, we can utilize the binary search technique to efficiently determine the minimum number of days needed. Here are the steps:\n",
    "\n",
    "1. **Check the Basic Feasibility**:\n",
    "   - First, check if the total number of flowers needed (`m * k`) is greater than the number of flowers available (`n`). If so, return `-1` immediately because it's impossible to satisfy the requirement.\n",
    "\n",
    "2. **Binary Search Setup**:\n",
    "   - Initialize two pointers: `left` starting at `1` (minimum possible day) and `right` starting at the maximum value in `bloomDay`.\n",
    "   - Use a while loop to continue searching until `left` equals `right`.\n",
    "\n",
    "3. **Binary Search Execution**:\n",
    "   - Calculate the middle day (`mid`) as `(left + right) // 2`.\n",
    "   - Implement a helper function `canMakeBouquets(mid)` to check if it's possible to make `m` bouquets using `k` adjacent flowers on day `mid`.\n",
    "   - If `canMakeBouquets(mid)` returns `True`, adjust `right` to `mid` to potentially find a smaller valid day.\n",
    "   - If `canMakeBouquets(mid)` returns `False`, adjust `left` to `mid + 1` to search in the higher days.\n",
    "\n",
    "4. **Helper Function `canMakeBouquets(mid)`**:\n",
    "   - Iterate through the `bloomDay` array and count consecutive flowers that bloom on or before `mid`.\n",
    "   - Whenever you find `k` consecutive flowers that can be used to form a bouquet, increment a counter.\n",
    "   - If the counter reaches `m` during the iteration, return `True`.\n",
    "   - If you finish iterating and haven't formed `m` bouquets, return `False`.\n",
    "\n",
    "5. **Return the Result**:\n",
    "   - After exiting the binary search loop, return `left`, which represents the minimum number of days required to make `m` bouquets."
   ]
  },
  {
   "cell_type": "code",
   "execution_count": null,
   "metadata": {},
   "outputs": [],
   "source": [
    "class Solution:\n",
    "    def minDays(self, bloomDay, m: int, k: int) -> int:\n",
    "        if m * k > len(bloomDay):\n",
    "            return -1\n",
    "        \n",
    "        def canMakeBouquets(d):\n",
    "            bouquets = 0\n",
    "            flowers = 0\n",
    "            for bloom in bloomDay:\n",
    "                if bloom <= d:\n",
    "                    flowers += 1\n",
    "                    if flowers == k:\n",
    "                        bouquets += 1\n",
    "                        flowers = 0\n",
    "                else:\n",
    "                    flowers = 0\n",
    "                if bouquets >= m:\n",
    "                    return True\n",
    "            return False\n",
    "\n",
    "        left, right = 1, max(bloomDay)\n",
    "        while left < right:\n",
    "            mid = (left + right) // 2\n",
    "            if canMakeBouquets(mid):\n",
    "                right = mid\n",
    "            else:\n",
    "                left = mid + 1\n",
    "        \n",
    "        return left"
   ]
  },
  {
   "cell_type": "markdown",
   "metadata": {},
   "source": [
    "### Explanation of the Code:\n",
    "\n",
    "- **Basic Check**: First, we check if it's feasible to create `m` bouquets with `k` flowers each.\n",
    "- **Binary Search**: We use binary search to find the minimum number of days required.\n",
    "- **Helper Function**: `canMakeBouquets(mid)` checks if it's possible to make `m` bouquets on day `mid`.\n",
    "- **Result**: The function returns the minimum day found using binary search.\n",
    "\n",
    "This approach ensures efficient solution to the problem by minimizing the number of days required to meet the bouquet creation criteria."
   ]
  }
 ],
 "metadata": {
  "kernelspec": {
   "display_name": "Python 3",
   "language": "python",
   "name": "python3"
  },
  "language_info": {
   "codemirror_mode": {
    "name": "ipython",
    "version": 3
   },
   "file_extension": ".py",
   "mimetype": "text/x-python",
   "name": "python",
   "nbconvert_exporter": "python",
   "pygments_lexer": "ipython3",
   "version": "3.11.4"
  }
 },
 "nbformat": 4,
 "nbformat_minor": 2
}
