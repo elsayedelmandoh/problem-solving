{
 "cells": [
  {
   "cell_type": "markdown",
   "metadata": {},
   "source": [
    "# Q50- 1382. Balance a Binary Search Tree"
   ]
  },
  {
   "cell_type": "markdown",
   "metadata": {},
   "source": [
    "Given the root of a binary search tree, return a balanced binary search tree with the same node values. If there is more than one answer, return any of them.\n",
    "\n",
    "A binary search tree is balanced if the depth of the two subtrees of every node never differs by more than 1.\n",
    "\n",
    " \n",
    "\n",
    "Example 1:\n",
    "\n",
    "![\"1382-Balance-a-Binary-Search-Tree\"](Q50-1382-Balance-a-Binary-Search-Tree.jpg)\n",
    "\n",
    "Input: root = [1,null,2,null,3,null,4,null,null]\n",
    "Output: [2,1,3,null,null,null,4]\n",
    "Explanation: This is not the only correct answer, [3,1,4,null,2] is also correct.\n",
    "\n",
    "Example 2:\n",
    "\n",
    "![\"1382-Balance-a-Binary-Search-Tree 2\"](Q50-1382-Balance-a-Binary-Search-Tree-2.jpg)\n",
    "\n",
    "Input: root = [2,1,3]\n",
    "Output: [2,1,3]\n",
    " \n",
    "\n",
    "Constraints:\n",
    "\n",
    "The number of nodes in the tree is in the range [1, 104].\n",
    "1 <= Node.val <= 105"
   ]
  },
  {
   "cell_type": "markdown",
   "metadata": {},
   "source": [
    "\n",
    "1. **In-order Traversal**: Perform an in-order traversal of the BST to obtain a sorted list of node values. This step ensures that we have all the values in increasing order.\n",
    "\n",
    "2. **Build Balanced BST**: Use the sorted list of node values to construct a balanced BST. We can do this by recursively selecting the middle element of the list as the root node, then constructing the left and right subtrees from the left and right halves of the list, respectively.\n"
   ]
  },
  {
   "cell_type": "code",
   "execution_count": 1,
   "metadata": {},
   "outputs": [],
   "source": [
    "class TreeNode:\n",
    "    def __init__(self, val=0, left=None, right=None):\n",
    "        self.val = val\n",
    "        self.left = left\n",
    "        self.right = right\n",
    "\n",
    "class Solution:\n",
    "    def balanceBST(self, root: TreeNode) -> TreeNode:\n",
    "        # Step 1: Perform in-order traversal to get sorted node values\n",
    "        values = []\n",
    "        self.inorder_traversal(root, values)\n",
    "        \n",
    "        # Step 2: Build a balanced BST from the sorted values\n",
    "        return self.build_balanced_bst(values, 0, len(values) - 1)\n",
    "    \n",
    "    def inorder_traversal(self, node: TreeNode, values: list):\n",
    "        if not node:\n",
    "            return\n",
    "        self.inorder_traversal(node.left, values)\n",
    "        values.append(node.val)\n",
    "        self.inorder_traversal(node.right, values)\n",
    "    \n",
    "    def build_balanced_bst(self, values: list, start: int, end: int) -> TreeNode:\n",
    "        if start > end:\n",
    "            return None\n",
    "        mid = (start + end) // 2\n",
    "        root = TreeNode(values[mid])\n",
    "        root.left = self.build_balanced_bst(values, start, mid - 1)\n",
    "        root.right = self.build_balanced_bst(values, mid + 1, end)\n",
    "        return root\n"
   ]
  },
  {
   "cell_type": "code",
   "execution_count": 2,
   "metadata": {},
   "outputs": [],
   "source": [
    "# Input: root = [1,null,2,null,3,null,4,null,null]\n",
    "# The tree will be constructed as follows:\n",
    "root = TreeNode(1)\n",
    "root.right = TreeNode(2)\n",
    "root.right.right = TreeNode(3)\n",
    "root.right.right.right = TreeNode(4)\n",
    "\n",
    "solution = Solution()\n",
    "new_root = solution.balanceBST(root)\n",
    "# The new_root now represents the balanced BST."
   ]
  },
  {
   "cell_type": "markdown",
   "metadata": {},
   "source": [
    "### Explanation of the Code\n",
    "\n",
    "1. **TreeNode Class**: This class defines the structure of a tree node.\n",
    "\n",
    "2. **Solution Class**:\n",
    "   - `balanceBST`: This method calls the `inorder_traversal` to get the sorted node values and then calls `build_balanced_bst` to construct the balanced BST.\n",
    "   - `inorder_traversal`: This recursive method performs an in-order traversal of the BST and collects the node values in a list.\n",
    "   - `build_balanced_bst`: This recursive method constructs a balanced BST from the sorted node values. It selects the middle element as the root, then recursively constructs the left and right subtrees from the left and right halves of the list, respectively.\n",
    "\n",
    "3. **Example Usage**: The provided example constructs an imbalanced BST and then balances it using the `balanceBST` method."
   ]
  }
 ],
 "metadata": {
  "kernelspec": {
   "display_name": "Python 3",
   "language": "python",
   "name": "python3"
  },
  "language_info": {
   "codemirror_mode": {
    "name": "ipython",
    "version": 3
   },
   "file_extension": ".py",
   "mimetype": "text/x-python",
   "name": "python",
   "nbconvert_exporter": "python",
   "pygments_lexer": "ipython3",
   "version": "3.11.4"
  }
 },
 "nbformat": 4,
 "nbformat_minor": 2
}
