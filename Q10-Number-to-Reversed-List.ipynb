{
 "cells": [
  {
   "cell_type": "markdown",
   "id": "038d1219",
   "metadata": {},
   "source": [
    "# Q10 Number to Reversed List"
   ]
  },
  {
   "cell_type": "markdown",
   "id": "b7cb4f9a",
   "metadata": {},
   "source": [
    "sudo code"
   ]
  },
  {
   "cell_type": "code",
   "execution_count": null,
   "id": "3f608328",
   "metadata": {},
   "outputs": [],
   "source": [
    "'''\n",
    "take numbers 123456789 \n",
    "reverse them to 987654321\n",
    "convert them to list\n",
    "'''"
   ]
  },
  {
   "cell_type": "code",
   "execution_count": null,
   "id": "69e72674",
   "metadata": {},
   "outputs": [],
   "source": [
    "def numberToReversedList(numbers):\n",
    "    res = list(int(n) for n in str(numbers))\n",
    "    res.reverse()\n",
    "    return res\n",
    "\n",
    "print(numberToReversedList(123456789))"
   ]
  },
  {
   "cell_type": "markdown",
   "id": "afc38dae",
   "metadata": {},
   "source": [
    "another way"
   ]
  },
  {
   "cell_type": "code",
   "execution_count": null,
   "id": "402ead94",
   "metadata": {},
   "outputs": [],
   "source": [
    "def convert(n):\n",
    "    # Convert To String\n",
    "    st = str(n)\n",
    "    # Create Empty List\n",
    "    result = []\n",
    "    # Loop On String Contains The Numbers\n",
    "    for num in st:\n",
    "        # Append Every Number To Empty List\n",
    "        result.append(int(num))\n",
    "    # Reverse The List\n",
    "    result.reverse()\n",
    "    return result\n",
    "\n",
    "\n",
    "print(convert(564987654))  # [4, 5, 6, 7, 8, 9, 4, 6, 5]"
   ]
  },
  {
   "cell_type": "code",
   "execution_count": null,
   "id": "9bdb88c0",
   "metadata": {},
   "outputs": [],
   "source": [
    "print(convert(529132))  # [2, 3, 1, 9, 2, 5]"
   ]
  },
  {
   "cell_type": "markdown",
   "id": "2c223383",
   "metadata": {},
   "source": [
    "another way"
   ]
  },
  {
   "cell_type": "code",
   "execution_count": null,
   "id": "8f3b6acf",
   "metadata": {},
   "outputs": [],
   "source": [
    "def convert(n):\n",
    "    # Create Empty List\n",
    "    result = []\n",
    "    # Loop On String Contains The Numbers\n",
    "    for num in str(n):\n",
    "        # Append Every Number To Empty List At Position 0\n",
    "        result.insert(0, int(num))\n",
    "    return result\n",
    "\n",
    "print(convert(564987654))  # [4, 5, 6, 7, 8, 9, 4, 6, 5]"
   ]
  },
  {
   "cell_type": "code",
   "execution_count": null,
   "id": "27f6050c",
   "metadata": {},
   "outputs": [],
   "source": [
    "print(convert(529132))  # [2, 3, 1, 9, 2, 5]"
   ]
  },
  {
   "cell_type": "markdown",
   "id": "37099558",
   "metadata": {},
   "source": [
    "another way"
   ]
  },
  {
   "cell_type": "code",
   "execution_count": null,
   "id": "f20df7ce",
   "metadata": {},
   "outputs": [],
   "source": [
    "def convert(n):\n",
    "    return [int(num) for num in str(n)[::-1]]\n",
    "\n",
    "# int(num) => Make num Integer\n",
    "# str(n) => Convert n To String\n",
    "# [::-1] => Slicing Backwards\n",
    "\n",
    "\n",
    "print(convert(564987654))  # [4, 5, 6, 7, 8, 9, 4, 6, 5]"
   ]
  },
  {
   "cell_type": "code",
   "execution_count": null,
   "id": "0a71d22a",
   "metadata": {},
   "outputs": [],
   "source": [
    "print(convert(529132))  # [2, 3, 1, 9, 2, 5]"
   ]
  }
 ],
 "metadata": {
  "language_info": {
   "name": "python"
  }
 },
 "nbformat": 4,
 "nbformat_minor": 5
}
