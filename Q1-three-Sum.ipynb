{
 "cells": [
  {
   "cell_type": "markdown",
   "id": "14757b8d",
   "metadata": {},
   "source": [
    "# Q1: Leetcode - 7 august, 2022 - Medium\n",
    "\n",
    "create threeSum function from class solution"
   ]
  },
  {
   "cell_type": "code",
   "execution_count": null,
   "id": "a2bc335a",
   "metadata": {},
   "outputs": [],
   "source": [
    "class solution():\n",
    "    def threeSum(self, nums):\n",
    "        \"\"\"\n",
    "        :type nums: List[int]\n",
    "        :rtype: List[List[int]]\n",
    "        \"\"\"\n",
    "        nums.sort()\n",
    "        result = []\n",
    "        for i in range(len(nums) - 2):\n",
    "            if i > 0 and nums[i] == nums[i - 1]:\n",
    "                continue\n",
    "            l, r = i + 1, len(nums) - 1\n",
    "            while l < r:\n",
    "                s = nums[i] + nums[l] + nums[r]\n",
    "                if s < 0:\n",
    "                    l += 1\n",
    "                elif s > 0:\n",
    "                    r -= 1\n",
    "                else:\n",
    "                    result.append([nums[i], nums[l], nums[r]])\n",
    "                    while l < r and nums[l] == nums[l + 1]:\n",
    "                        l += 1\n",
    "                    while l < r and nums[r] == nums[r - 1]:\n",
    "                        r -= 1\n",
    "                    l += 1\n",
    "                    r -= 1\n",
    "        return result\n",
    "obj1 = solution()\n",
    "print(obj1.threeSum([-1,0,1,2,-1,-4]))"
   ]
  }
 ],
 "metadata": {
  "language_info": {
   "name": "python"
  }
 },
 "nbformat": 4,
 "nbformat_minor": 5
}
