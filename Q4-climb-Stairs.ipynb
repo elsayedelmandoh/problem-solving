{
 "cells": [
  {
   "cell_type": "markdown",
   "id": "8a6ffd4c",
   "metadata": {},
   "source": [
    "# Q4 Leetcode - 7 august, 2022 - Esay"
   ]
  },
  {
   "cell_type": "code",
   "execution_count": null,
   "id": "697b3d0b",
   "metadata": {},
   "outputs": [],
   "source": [
    "class Solution(object):\n",
    "    def climbStairs(self, n):\n",
    "        \"\"\"\n",
    "        :type n: int\n",
    "        :rtype: int\n",
    "        \"\"\"\n",
    "        if n == 1:\n",
    "            return 1\n",
    "        elif n == 2:\n",
    "            return 2\n",
    "        else:\n",
    "            return self.climbStairs(n-1)+self.climbStairs(n-2)\n",
    "obj1 = Solution()\n",
    "print(obj1.climbStairs(4))  "
   ]
  }
 ],
 "metadata": {
  "language_info": {
   "name": "python"
  }
 },
 "nbformat": 4,
 "nbformat_minor": 5
}
