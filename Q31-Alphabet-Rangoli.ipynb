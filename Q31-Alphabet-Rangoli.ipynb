{
 "cells": [
  {
   "cell_type": "markdown",
   "id": "ea581ed1",
   "metadata": {},
   "source": [
    "# Q31 Alphabet Rangoli"
   ]
  },
  {
   "cell_type": "code",
   "execution_count": null,
   "id": "836e3d11",
   "metadata": {},
   "outputs": [],
   "source": [
    "'''\n",
    "ord(a,b,c,d,e) 97 , 98 , 99 , 100 , 101 , 102\n",
    "'''"
   ]
  },
  {
   "cell_type": "code",
   "execution_count": null,
   "id": "93fc757f",
   "metadata": {},
   "outputs": [],
   "source": [
    "def print_rangoli(size):\n",
    "    import string\n",
    "    strlow = string.ascii_lowercase\n",
    "    # top and middle\n",
    "    for i in reversed(strlow[0:size]):  # 4 3 2 1 0 = e d c b a\n",
    "        # print(ord(i)) # 101 100 99 98 97 = e d c b a\n",
    "        print('-'.join(strlow[size - 1:ord(i) - 97:-1] +\n",
    "                       strlow[ord(i) - 97:size]\n",
    "                       ).center(4 * size - 3, '-'))\n",
    "        # top\n",
    "        # strlow[4:4:-1] + strlow[4:5] = '' + 'e' = 'e'\n",
    "        # strlow[4:3:-1] + strlow[3:5] = 'd' + 'de' = 'd-e'\n",
    "        # strlow[4:2:-1] + strlow[2:5] = 'ed' + 'cde' = 'c-d-e'\n",
    "        # strlow[4:1:-1] + strlow[1:5] = 'edc' + 'bcde' = 'c-d-e'\n",
    "\n",
    "        # middle\n",
    "        # strlow[4:0:-1] + strlow[0:5] = 'edcb' + 'abcde' = 'c-d-e'\n",
    "\n",
    "    # bottom\n",
    "    for i in strlow[1:size]:  # 1 2 3 4 = b c d e\n",
    "        # print(ord(i)) # 98 99 100 101 = b c d e\n",
    "        print('-'.join(strlow[size - 1:ord(i) - 97:-1] +\n",
    "                       strlow[ord(i) - 97:size]\n",
    "                       ).center(4 * size - 3, '-'))\n",
    "        # buttom\n",
    "        # strlow[4:1:-1] + strlow[1:5] = 'edc' + 'bcde' = 'e-d-c-b-c-d-e'\n",
    "        # strlow[4:2:-1] + strlow[2:5] = 'ed' + 'cde' = 'e-d-c-d-e'\n",
    "        # strlow[4:3:-1] + strlow[3:5] = 'e' + 'de' = 'e-d-e'\n",
    "        # strlow[4:4:-1] + strlow[4:5] = '' + 'e' = 'e'\n",
    "\n",
    "\n",
    "print_rangoli(5)\n",
    "'''\n",
    "--------e--------\n",
    "------e-d-e------\n",
    "----e-d-c-d-e----\n",
    "--e-d-c-b-c-d-e--\n",
    "e-d-c-b-a-b-c-d-e\n",
    "--e-d-c-b-c-d-e--\n",
    "----e-d-c-d-e----\n",
    "------e-d-e------\n",
    "--------e--------\n",
    "'''\n",
    "\n",
    "# print(len(\"----c----\")) # 3 > 9\n",
    "# print(len(\"--------e--------\")) # 5 > 17\n",
    "# print(len(\"------------------j------------------\")) # 10 > 37\n"
   ]
  }
 ],
 "metadata": {
  "language_info": {
   "name": "python"
  }
 },
 "nbformat": 4,
 "nbformat_minor": 5
}
