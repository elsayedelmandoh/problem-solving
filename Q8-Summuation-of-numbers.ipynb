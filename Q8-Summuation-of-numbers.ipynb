{
 "cells": [
  {
   "cell_type": "markdown",
   "id": "d4bdbda6",
   "metadata": {},
   "source": [
    "# Q8 Summuation of numbers"
   ]
  },
  {
   "cell_type": "markdown",
   "id": "fe78e046",
   "metadata": {},
   "source": [
    "sudo code"
   ]
  },
  {
   "cell_type": "code",
   "execution_count": null,
   "id": "660ed2a0",
   "metadata": {},
   "outputs": [],
   "source": [
    "'''\n",
    "> take numbers\n",
    "> create sum = 0\n",
    "> loop through numbers\n",
    "> add summuation number and sum\n",
    "> print sum\n",
    "'''"
   ]
  },
  {
   "cell_type": "code",
   "execution_count": null,
   "id": "f09533db",
   "metadata": {},
   "outputs": [],
   "source": [
    "inp = input(\"Enter numbers between space: \")\n",
    "sum = 0 \n",
    "for i in inp.split():\n",
    "    sum += int(i)\n",
    "print(sum)"
   ]
  }
 ],
 "metadata": {
  "language_info": {
   "name": "python"
  }
 },
 "nbformat": 4,
 "nbformat_minor": 5
}
