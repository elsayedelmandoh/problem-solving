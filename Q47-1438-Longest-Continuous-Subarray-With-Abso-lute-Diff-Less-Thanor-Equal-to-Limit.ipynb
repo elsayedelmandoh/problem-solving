{
 "cells": [
  {
   "cell_type": "markdown",
   "metadata": {},
   "source": [
    "# Q47- 1438. Longest Continuous Subarray With Absolute Diff Less Than or Equal to Limit"
   ]
  },
  {
   "cell_type": "markdown",
   "metadata": {},
   "source": [
    "### 1. Understanding the Problem\n",
    "- We need to find a subarray with the maximum length such that the absolute difference between any two elements in the subarray is less than or equal to a given `limit`.\n",
    "- We can use a sliding window technique to maintain a subarray that satisfies the condition."
   ]
  },
  {
   "cell_type": "markdown",
   "metadata": {},
   "source": [
    "### 2. Explore Examples\n",
    "- Example 1:\n",
    "  - Input: `nums = [8,2,4,7]`, `limit = 4`\n",
    "  - Output: `2`\n",
    "  - Explanation: The longest subarray is `[2,4]` or `[4,7]`, both have maximum length 2.\n",
    "- Example 2:\n",
    "  - Input: `nums = [10,1,2,4,7,2]`, `limit = 5`\n",
    "  - Output: `4`\n",
    "  - Explanation: The longest subarray is `[2,4,7,2]` with length 4.\n",
    "- Example 3:\n",
    "  - Input: `nums = [4,2,2,2,4,4,2,2]`, `limit = 0`\n",
    "  - Output: `3`\n",
    "  - Explanation: The longest subarray is `[2,2,2]` with length 3.\n",
    "\n"
   ]
  },
  {
   "cell_type": "markdown",
   "metadata": {},
   "source": [
    "### 3. Plan a Solution\n",
    "1. **Use Sliding Window Technique:**\n",
    "   - Maintain a window `[left, right]` such that the subarray within this window has an absolute difference between the maximum and minimum elements less than or equal to the `limit`.\n",
    "   - Use two deques to keep track of the minimum and maximum elements in the current window.\n",
    "   - Adjust the window size by moving the left pointer when the condition is not satisfied.\n",
    "2. **Update the Result:**\n",
    "   - Keep track of the maximum length of such a subarray encountered during the iteration.\n",
    "\n",
    "### 4. Implement the Solution"
   ]
  },
  {
   "cell_type": "code",
   "execution_count": 1,
   "metadata": {},
   "outputs": [],
   "source": [
    "from collections import deque\n",
    "\n",
    "def longestSubarray(nums, limit):\n",
    "    max_deque = deque()  # To store the maximum elements\n",
    "    min_deque = deque()  # To store the minimum elements\n",
    "    left = 0\n",
    "    result = 0\n",
    "    \n",
    "    for right in range(len(nums)):\n",
    "        # Maintain the decreasing order in max_deque\n",
    "        while max_deque and nums[max_deque[-1]] <= nums[right]:\n",
    "            max_deque.pop()\n",
    "        max_deque.append(right)\n",
    "        \n",
    "        # Maintain the increasing order in min_deque\n",
    "        while min_deque and nums[min_deque[-1]] >= nums[right]:\n",
    "            min_deque.pop()\n",
    "        min_deque.append(right)\n",
    "        \n",
    "        # If the absolute difference exceeds the limit, move the left pointer\n",
    "        while nums[max_deque[0]] - nums[min_deque[0]] > limit:\n",
    "            left += 1\n",
    "            if max_deque[0] < left:\n",
    "                max_deque.popleft()\n",
    "            if min_deque[0] < left:\n",
    "                min_deque.popleft()\n",
    "        \n",
    "        # Update the result with the current window size\n",
    "        result = max(result, right - left + 1)\n",
    "    \n",
    "    return result"
   ]
  },
  {
   "cell_type": "code",
   "execution_count": 2,
   "metadata": {},
   "outputs": [
    {
     "name": "stdout",
     "output_type": "stream",
     "text": [
      "2\n",
      "4\n",
      "3\n"
     ]
    }
   ],
   "source": [
    "nums1 = [8,2,4,7]\n",
    "limit1 = 4\n",
    "print(longestSubarray(nums1, limit1))  # Output: 2\n",
    "\n",
    "nums2 = [10,1,2,4,7,2]\n",
    "limit2 = 5\n",
    "print(longestSubarray(nums2, limit2))  # Output: 4\n",
    "\n",
    "nums3 = [4,2,2,2,4,4,2,2]\n",
    "limit3 = 0\n",
    "print(longestSubarray(nums3, limit3))  # Output: 3"
   ]
  },
  {
   "cell_type": "markdown",
   "metadata": {},
   "source": [
    "### Explanation of the Code:\n",
    "1. **Sliding Window:**\n",
    "   - The window is defined by the indices `[left, right]`.\n",
    "   - The `right` pointer expands the window by iterating through the array.\n",
    "   - The `left` pointer contracts the window when the condition is violated.\n",
    "\n",
    "2. **Deques for Min and Max:**\n",
    "   - `max_deque` maintains indices of elements in decreasing order.\n",
    "   - `min_deque` maintains indices of elements in increasing order.\n",
    "   - Both deques help in efficiently finding the maximum and minimum elements in the current window.\n",
    "\n",
    "3. **Adjusting the Window:**\n",
    "   - When the absolute difference between the maximum and minimum elements in the window exceeds the limit, increment the `left` pointer to shrink the window until the condition is satisfied.\n",
    "\n",
    "4. **Updating the Result:**\n",
    "   - The length of the current valid window is `right - left + 1`, and the result is updated to keep track of the maximum length encountered."
   ]
  }
 ],
 "metadata": {
  "kernelspec": {
   "display_name": "Python 3",
   "language": "python",
   "name": "python3"
  },
  "language_info": {
   "codemirror_mode": {
    "name": "ipython",
    "version": 3
   },
   "file_extension": ".py",
   "mimetype": "text/x-python",
   "name": "python",
   "nbconvert_exporter": "python",
   "pygments_lexer": "ipython3",
   "version": "3.11.4"
  }
 },
 "nbformat": 4,
 "nbformat_minor": 2
}
