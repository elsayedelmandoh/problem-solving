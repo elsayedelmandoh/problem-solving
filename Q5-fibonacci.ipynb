{
 "cells": [
  {
   "cell_type": "markdown",
   "id": "b65704b7",
   "metadata": {},
   "source": [
    "# Q5 Leetcode - 7 august, 2022 - Esay\n",
    "\n",
    "fibonacci()"
   ]
  },
  {
   "cell_type": "code",
   "execution_count": null,
   "id": "a3f89928",
   "metadata": {},
   "outputs": [],
   "source": [
    "class Solution(object):\n",
    "    def fib(self, n):\n",
    "        \"\"\"\n",
    "        :type n: int\n",
    "        :rtype: int\n",
    "        \"\"\"\n",
    "        if n == 0:\n",
    "            return 0\n",
    "        elif n == 1:\n",
    "            return 1\n",
    "        else:\n",
    "            return self.fib(n-1) + self.fib(n-2)\n",
    "obj1 = Solution()\n",
    "print(obj1.fib(2))\n",
    "print(obj1.fib(3))\n",
    "print(obj1.fib(4))"
   ]
  }
 ],
 "metadata": {
  "language_info": {
   "name": "python"
  }
 },
 "nbformat": 4,
 "nbformat_minor": 5
}
