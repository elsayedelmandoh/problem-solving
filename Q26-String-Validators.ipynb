{
 "cells": [
  {
   "cell_type": "markdown",
   "id": "0a0771da",
   "metadata": {},
   "source": [
    "# Q26 String Validators"
   ]
  },
  {
   "cell_type": "code",
   "execution_count": null,
   "id": "7ac4a7fe",
   "metadata": {},
   "outputs": [],
   "source": [
    "def is_alnum(string):\n",
    "    for i in range(len(string)):\n",
    "        if string[i].isalnum():\n",
    "            return True\n",
    "    return False\n",
    "\n",
    "def is_alpha(string):\n",
    "    for i in range(len(string)):\n",
    "        if string[i].isalpha():\n",
    "            return True\n",
    "    return False\n",
    "\n",
    "def is_digit(string):\n",
    "    for i in range(len(string)):\n",
    "        if string[i].isdigit():\n",
    "            return True\n",
    "    return False\n",
    "\n",
    "def is_lower(string):\n",
    "    for i in range(len(string)):\n",
    "        if string[i].islower():\n",
    "            return True\n",
    "    return False\n",
    "\n",
    "def is_upper(string):\n",
    "    for i in range(len(string)):\n",
    "        if string[i].isupper():\n",
    "            return True\n",
    "    return False"
   ]
  },
  {
   "cell_type": "code",
   "execution_count": null,
   "id": "179ec53e",
   "metadata": {},
   "outputs": [],
   "source": [
    "if __name__ == '__main__':\n",
    "    s = 'qA2'\n",
    "    print(is_alnum(s))\n",
    "    print(is_alpha(s))\n",
    "    print(is_digit(s))\n",
    "    print(is_lower(s))\n",
    "    print(is_upper(s))"
   ]
  }
 ],
 "metadata": {
  "language_info": {
   "name": "python"
  }
 },
 "nbformat": 4,
 "nbformat_minor": 5
}
