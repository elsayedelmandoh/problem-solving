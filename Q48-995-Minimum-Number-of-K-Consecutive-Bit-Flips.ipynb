{
 "cells": [
  {
   "cell_type": "markdown",
   "metadata": {},
   "source": [
    "# Q48- 995. Minimum Number of K Consecutive Bit Flips"
   ]
  },
  {
   "cell_type": "markdown",
   "metadata": {},
   "source": [
    "Hard\n",
    "Topics\n",
    "Companies\n",
    "\n",
    "You are given a binary array nums and an integer k.\n",
    "\n",
    "A k-bit flip is choosing a subarray of length k from nums and simultaneously changing every 0 in the subarray to 1, and every 1 in the subarray to 0.\n",
    "\n",
    "Return the minimum number of k-bit flips required so that there is no 0 in the array. If it is not possible, return -1.\n",
    "\n",
    "A subarray is a contiguous part of an array.\n",
    "\n",
    " \n",
    "\n",
    "Example 1:\n",
    "\n",
    "Input: nums = [0,1,0], k = 1\n",
    "Output: 2\n",
    "Explanation: Flip nums[0], then flip nums[2].\n",
    "Example 2:\n",
    "\n",
    "Input: nums = [1,1,0], k = 2\n",
    "Output: -1\n",
    "Explanation: No matter how we flip subarrays of size 2, we cannot make the array become [1,1,1].\n",
    "Example 3:\n",
    "\n",
    "Input: nums = [0,0,0,1,0,1,1,0], k = 3\n",
    "Output: 3\n",
    "Explanation: \n",
    "Flip nums[0],nums[1],nums[2]: nums becomes [1,1,1,1,0,1,1,0]\n",
    "Flip nums[4],nums[5],nums[6]: nums becomes [1,1,1,1,1,0,0,0]\n",
    "Flip nums[5],nums[6],nums[7]: nums becomes [1,1,1,1,1,1,1,1]\n",
    " \n",
    "\n",
    "Constraints:\n",
    "\n",
    "1 <= nums.length <= 105\n",
    "1 <= k <= nums.length"
   ]
  },
  {
   "cell_type": "markdown",
   "metadata": {},
   "source": [
    "### Approach\n",
    "\n",
    "1. **Initialization**:\n",
    "   - Initialize a counter to keep track of the number of flips needed.\n",
    "   - Use an array to keep track of whether a bit has been flipped or not.\n",
    "\n",
    "2. **Traverse the Array**:\n",
    "   - Iterate through the array, and for each bit, determine if it needs to be flipped based on the flip state and whether it's currently a 0.\n",
    "\n",
    "3. **Performing Flips**:\n",
    "   - If a bit needs to be flipped, check if there's enough room to perform a k-bit flip.\n",
    "   - If yes, flip the bit and update the flip state for the next k bits.\n",
    "   - If not, return -1 since it's not possible to make all bits 1.\n",
    "\n",
    "4. **Final Check**:\n",
    "   - After traversing the array, check if all bits are 1 and return the count of flips."
   ]
  },
  {
   "cell_type": "code",
   "execution_count": 1,
   "metadata": {},
   "outputs": [],
   "source": [
    "def minKBitFlips(nums, k):\n",
    "    n = len(nums)\n",
    "    flip = 0\n",
    "    flipped = [0] * n\n",
    "    result = 0\n",
    "    \n",
    "    for i in range(n):\n",
    "        if i >= k:\n",
    "            flip ^= flipped[i - k]\n",
    "        \n",
    "        if nums[i] == flip:\n",
    "            if i + k > n:\n",
    "                return -1\n",
    "            \n",
    "            flip ^= 1\n",
    "            result += 1\n",
    "            flipped[i] = 1\n",
    "    \n",
    "    return result"
   ]
  },
  {
   "cell_type": "code",
   "execution_count": 2,
   "metadata": {},
   "outputs": [
    {
     "name": "stdout",
     "output_type": "stream",
     "text": [
      "2\n",
      "-1\n",
      "3\n"
     ]
    }
   ],
   "source": [
    "nums1 = [0, 1, 0]\n",
    "k1 = 1\n",
    "print(minKBitFlips(nums1, k1))  # Output: 2\n",
    "\n",
    "nums2 = [1, 1, 0]\n",
    "k2 = 2\n",
    "print(minKBitFlips(nums2, k2))  # Output: -1\n",
    "\n",
    "nums3 = [0, 0, 0, 1, 0, 1, 1, 0]\n",
    "k3 = 3\n",
    "print(minKBitFlips(nums3, k3))  # Output: 3"
   ]
  },
  {
   "cell_type": "markdown",
   "metadata": {},
   "source": [
    "### Explanation of the Code\n",
    "\n",
    "1. **Initialization**:\n",
    "   - `flip` is used to keep track of the current flip state (0 or 1).\n",
    "   - `flipped` is an array to mark if a flip starts at a particular index.\n",
    "   - `result` keeps track of the number of flips performed.\n",
    "\n",
    "2. **Traverse the Array**:\n",
    "   - For each index `i`, update the `flip` state by XORing with `flipped[i - k]` if `i >= k`.\n",
    "   - If the current bit (`nums[i]`) is equal to `flip`, it means this bit is in its original state and needs to be flipped.\n",
    "\n",
    "3. **Performing Flips**:\n",
    "   - Check if there's enough room to perform a k-bit flip (`i + k <= n`).\n",
    "   - If possible, perform the flip by updating `flip`, incrementing the `result`, and marking the start of the flip in `flipped`.\n",
    "\n",
    "4. **Final Check**:\n",
    "   - If the loop completes without returning -1, return the total number of flips (`result`).\n"
   ]
  }
 ],
 "metadata": {
  "kernelspec": {
   "display_name": "Python 3",
   "language": "python",
   "name": "python3"
  },
  "language_info": {
   "codemirror_mode": {
    "name": "ipython",
    "version": 3
   },
   "file_extension": ".py",
   "mimetype": "text/x-python",
   "name": "python",
   "nbconvert_exporter": "python",
   "pygments_lexer": "ipython3",
   "version": "3.11.4"
  }
 },
 "nbformat": 4,
 "nbformat_minor": 2
}
