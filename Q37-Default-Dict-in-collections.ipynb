{
 "cells": [
  {
   "cell_type": "markdown",
   "id": "ca4ce5bc",
   "metadata": {},
   "source": [
    "# Q37 Default Dict in collections"
   ]
  },
  {
   "cell_type": "code",
   "execution_count": null,
   "id": "72500efb",
   "metadata": {},
   "outputs": [],
   "source": [
    "'''\n",
    "take input n : numbers of group A\n",
    "take input m : numbers of group B\n",
    "create dict using defaultdict from collections\n",
    "take element group a as dict\n",
    "take element grop b as list\n",
    "check if element list_b is found in dict_a print(index) else print(-1)\n",
    "'''"
   ]
  },
  {
   "cell_type": "code",
   "execution_count": null,
   "id": "e1f0cf1f",
   "metadata": {},
   "outputs": [],
   "source": [
    "from collections import defaultdict\n",
    "'''\n",
    "The 'defaultdict' tool is a container in the collections class of Python. It's similar to the usual dictionary (dict) container, but the only difference is that a defaultdict will have a default value if that key has not been set yet. If you didn't use a defaultdict you'd have to check to see if that key exists, and if it doesn't, set it to what you want.\n",
    "'''\n",
    "\n",
    "# input ..\n",
    "n , m = list(map(int,input().split()))\n",
    "dict_a = defaultdict(list) # 'a', 'a', 'b', 'a', 'b'\n",
    "for i in range(1,n+1): # 1 2 3 4 5\n",
    "    dict_a[input()].append(i) \n",
    "\n",
    "list_b = [input() for i in range(m)] # 'a' , 'b'\n",
    "\n",
    "# output ..\n",
    "for i in list_b:\n",
    "    print(*dict_a[i]) if i in dict_a else print('-1')\n",
    "# *dict_a[i] : to convert [1,2,3,4,5] to 1, 2, 3, 4, 5"
   ]
  }
 ],
 "metadata": {
  "language_info": {
   "name": "python"
  }
 },
 "nbformat": 4,
 "nbformat_minor": 5
}
