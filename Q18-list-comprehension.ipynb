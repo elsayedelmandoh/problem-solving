{
 "cells": [
  {
   "cell_type": "markdown",
   "id": "b43c48e6",
   "metadata": {},
   "source": [
    "# Q18 list comprehension"
   ]
  },
  {
   "cell_type": "code",
   "execution_count": null,
   "id": "3fbf0aab",
   "metadata": {},
   "outputs": [],
   "source": [
    "x= int(input())\n",
    "y = int(input())\n",
    "z= int(input())\n",
    "n= int(input())\n",
    "ls = [[a,b,c] for a in range(x+1) for b in range(y+1) for c in range(z+1) if a+b+c != n]\n",
    "print(ls)"
   ]
  }
 ],
 "metadata": {
  "language_info": {
   "name": "python"
  }
 },
 "nbformat": 4,
 "nbformat_minor": 5
}
