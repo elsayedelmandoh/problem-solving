{
 "cells": [
  {
   "cell_type": "markdown",
   "id": "91d40bcd",
   "metadata": {},
   "source": [
    "# Q19 runner up score"
   ]
  },
  {
   "cell_type": "markdown",
   "id": "b73d228d",
   "metadata": {},
   "source": [
    "how take five elements from user using map function"
   ]
  },
  {
   "cell_type": "code",
   "execution_count": null,
   "id": "f4b4cf7b",
   "metadata": {},
   "outputs": [],
   "source": [
    "n = int(input())\n",
    "arr = list(map(int, input().split()))[:n]\n",
    "arr.sort()\n",
    "for i in arr[::-1]: \n",
    "    if i < max(arr):\n",
    "        print(i)\n",
    "        break"
   ]
  }
 ],
 "metadata": {
  "language_info": {
   "name": "python"
  }
 },
 "nbformat": 4,
 "nbformat_minor": 5
}
