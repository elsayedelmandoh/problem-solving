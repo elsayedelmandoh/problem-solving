{
 "cells": [
  {
   "cell_type": "markdown",
   "id": "dc34ec36",
   "metadata": {},
   "source": [
    "# Q41- 633. Sum of Square Numbers\n",
    "\n",
    "Medium\n",
    "Topics\n",
    "Companies\n",
    "Given a non-negative integer c, decide whether there're two integers a and b such that a2 + b2 = c.\n",
    " \n",
    "\n",
    "Example 1:\n",
    "\n",
    "Input: c = 5\n",
    "Output: true\n",
    "Explanation: 1 * 1 + 2 * 2 = 5\n",
    "Example 2:\n",
    "\n",
    "Input: c = 3\n",
    "Output: false\n",
    " \n",
    "\n",
    "Constraints:\n",
    "\n",
    "0 <= c <= 231 - 1"
   ]
  },
  {
   "cell_type": "markdown",
   "id": "56c6d467",
   "metadata": {},
   "source": [
    "1. Brute Force Approach:\n",
    "\n",
    "We could start by considering all possible pairs of integers (a, b) such that ( a^2 + b^2 = c ).\n",
    "\n",
    "We iterate through all values of ‘a’ from 0 to (\\sqrt{c}) and for each ‘a’, we calculate ‘b’ as (b = \\sqrt{c - a^2} ).\n",
    "\n",
    "If ‘b’ is an integer, we have found our pair, and we return true.\n",
    "\n",
    "If we complete the loop without finding such a pair, we return false."
   ]
  },
  {
   "cell_type": "markdown",
   "id": "9ad795ed",
   "metadata": {},
   "source": [
    "2. Using Mathematical Properties:\n",
    "\n",
    "A number can be expressed as the sum of two squares if and only if its prime factorization has no prime congruent to 3 (mod 4) raised to an odd power.\n",
    "\n",
    "This approach requires prime factorization of ‘c’ and checking the power of primes."
   ]
  },
  {
   "cell_type": "markdown",
   "id": "25ed52a1",
   "metadata": {},
   "source": [
    "3. Two-pointer Approach:\n",
    "\n",
    "Initialize two pointers: one at 0 (let’s call it ‘a’) and another at (\\sqrt{c}) (let’s call it ‘b’).\n",
    "\n",
    "While ‘a’ is less than or equal to ‘b’:\n",
    "\n",
    "    Calculate ( currentSum = a^2 + b^2 ).\n",
    "    \n",
    "    If ( currentSum == c ), return true.\n",
    "    \n",
    "    If ( currentSum < c ), increment ‘a’.\n",
    "    \n",
    "    If ( currentSum > c ), decrement ‘b’.\n",
    "    \n",
    "    If no pair is found, return false."
   ]
  },
  {
   "cell_type": "markdown",
   "id": "6cb1e55a",
   "metadata": {},
   "source": [
    "4. Using Square Root:\n",
    "\n",
    "Iterate through all values of ‘a’ from 0 to (\\sqrt{c}).\n",
    "\n",
    "For each ‘a’, calculate ( b^2 = c - a^2 ).\n",
    "\n",
    "Check if ( b^2 ) is a perfect square (i.e., if ( b ) is an integer).\n",
    "\n",
    "If it is, return true; otherwise, continue the loop."
   ]
  },
  {
   "cell_type": "markdown",
   "id": "314b6a5e",
   "metadata": {},
   "source": [
    "5. Optimization with Square Root Check:\n",
    "\n",
    "Similar to the previous approach but instead of calculating ( b ) directly, we use an efficient way to check if a number is a perfect square."
   ]
  },
  {
   "cell_type": "code",
   "execution_count": null,
   "id": "591d96c6",
   "metadata": {},
   "outputs": [
    {
     "name": "stdout",
     "output_type": "stream",
     "text": [
      "True\n",
      "False\n",
      "True\n",
      "True\n",
      "True\n",
      "True\n"
     ]
    }
   ],
   "source": [
    "import math\n",
    "\n",
    "def judgeSquareSum(c):\n",
    "    # Initialize two pointers: one starting from 0 and the other from the square root of c\n",
    "    a = 0\n",
    "    b = int(math.sqrt(c)) # `b` starts at the integer part of the square root of `c`\n",
    "    \n",
    "    # Loop until the two pointers cross each other\n",
    "    while a <= b:\n",
    "        # Calculate the sum of squares of `a` and `b`\n",
    "        currentSum = a * a + b * b\n",
    "        \n",
    "        # If the current sum is equal to `c`, we have found our pair\n",
    "        if currentSum == c:\n",
    "            return True\n",
    "        \n",
    "        # If the current sum is less than `c`, we need to increase `a` to get a larger sum\n",
    "        elif currentSum < c:\n",
    "            a += 1\n",
    "        \n",
    "        # If the current sum is greater than `c`, we need to decrease `b` to get a smaller sum\n",
    "        else:\n",
    "            b -= 1\n",
    "    \n",
    "    # If we exit the loop without finding a pair, return False\n",
    "    return False\n",
    "\n",
    "# Example usage:\n",
    "print(judgeSquareSum(5))  # Output: True, because 1^2 + 2^2 = 5\n",
    "print(judgeSquareSum(3))  # Output: False, because no such pairs exist\n",
    "\n",
    "# Additional test cases for validation\n",
    "print(judgeSquareSum(4))  # Output: True, because 0^2 + 2^2 = 4\n",
    "print(judgeSquareSum(2))  # Output: True, because 1^2 + 1^2 = 2\n",
    "print(judgeSquareSum(1))  # Output: True, because 0^2 + 1^2 = 1\n",
    "print(judgeSquareSum(0))  # Output: True, because 0^2 + 0^2 = 0"
   ]
  },
  {
   "cell_type": "markdown",
   "id": "6b8ab2c6",
   "metadata": {},
   "source": [
    "### Explanation of the Two-pointer Approach\n",
    "\n",
    "1. **Initialize Pointers**: \n",
    "\n",
    "Start with `a` at 0 and `b` at the integer part of the square root of `c`.\n",
    "\n",
    "2. **Iterate with Conditions**:\n",
    "\n",
    "   - Calculate the sum of squares of `a` and `b`.\n",
    "\n",
    "   - If the sum is equal to `c`, return `True` since we found a valid pair.\n",
    "\n",
    "   - If the sum is less than `c`, increment `a` to increase the sum.\n",
    "\n",
    "   - If the sum is greater than `c`, decrement `b` to decrease the sum.\n",
    "\n",
    "3. **Terminate Loop**: \n",
    "\n",
    "The loop continues until `a` surpasses `b`.\n",
    "\n",
    "4. **Return Result**: \n",
    "\n",
    "If no valid pair is found, return `False`."
   ]
  }
 ],
 "metadata": {
  "language_info": {
   "name": "python"
  }
 },
 "nbformat": 4,
 "nbformat_minor": 5
}
