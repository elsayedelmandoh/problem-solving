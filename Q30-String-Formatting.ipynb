{
 "cells": [
  {
   "cell_type": "markdown",
   "id": "09f8cfe2",
   "metadata": {},
   "source": [
    "# Q30 String Formatting"
   ]
  },
  {
   "cell_type": "code",
   "execution_count": null,
   "id": "796b5b95",
   "metadata": {},
   "outputs": [],
   "source": [
    "# print(bin(12)) # 0b1100\n",
    "# print(bin(12)[2:]) # 1100\n",
    "# print(0b1100[2:])\n"
   ]
  },
  {
   "cell_type": "code",
   "execution_count": null,
   "id": "e01dd887",
   "metadata": {},
   "outputs": [],
   "source": [
    "def print_formatted(n): # n = 17\n",
    "    for i in range(1, n + 1):\n",
    "        print(\" \".join(map(lambda string: string.rjust(len(bin(n)[2:]), ' '), [str(i), oct(i)[2:], hex(i)[2:].upper(), bin(i)[2:]])))\n",
    "print_formatted(5)\n",
    "\n",
    "'''\n",
    "decimal octal hexa binary\n",
    "    1     1     1     1\n",
    "    2     2     2    10\n",
    "    3     3     3    11\n",
    "    4     4     4   100\n",
    "    5     5     5   101\n",
    "    6     6     6   110\n",
    "    7     7     7   111\n",
    "    8    10     8  1000\n",
    "    9    11     9  1001\n",
    "   10    12     A  1010\n",
    "   11    13     B  1011\n",
    "   12    14     C  1100\n",
    "   13    15     D  1101\n",
    "   14    16     E  1110\n",
    "   15    17     F  1111\n",
    "   16    20    10 10000\n",
    "   17    21    11 10001\n",
    "'''"
   ]
  },
  {
   "cell_type": "code",
   "execution_count": null,
   "id": "1c8071de",
   "metadata": {},
   "outputs": [],
   "source": [
    "if __name__ == '__main__':\n",
    "    n = int(input())\n",
    "    print_formatted(n)"
   ]
  }
 ],
 "metadata": {
  "language_info": {
   "name": "python"
  }
 },
 "nbformat": 4,
 "nbformat_minor": 5
}
