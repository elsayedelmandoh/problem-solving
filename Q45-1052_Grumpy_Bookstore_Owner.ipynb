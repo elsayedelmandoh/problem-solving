{
 "cells": [
  {
   "cell_type": "markdown",
   "metadata": {},
   "source": [
    "# Q45- 1052. Grumpy Bookstore Owner"
   ]
  },
  {
   "cell_type": "markdown",
   "metadata": {},
   "source": [
    "1052. Grumpy Bookstore Owner\n",
    "\n",
    "Medium\n",
    "Topics\n",
    "Companies\n",
    "Hint\n",
    "There is a bookstore owner that has a store open for n minutes. Every minute, some number of customers enter the store. You are given an integer array customers of length n where customers[i] is the number of the customer that enters the store at the start of the ith minute and all those customers leave after the end of that minute.\n",
    "\n",
    "On some minutes, the bookstore owner is grumpy. You are given a binary array grumpy where grumpy[i] is 1 if the bookstore owner is grumpy during the ith minute, and is 0 otherwise.\n",
    "\n",
    "When the bookstore owner is grumpy, the customers of that minute are not satisfied, otherwise, they are satisfied.\n",
    "\n",
    "The bookstore owner knows a secret technique to keep themselves not grumpy for minutes consecutive minutes, but can only use it once.\n",
    "\n",
    "Return the maximum number of customers that can be satisfied throughout the day.\n",
    "\n",
    " \n",
    "\n",
    "Example 1:\n",
    "\n",
    "Input: customers = [1,0,1,2,1,1,7,5], grumpy = [0,1,0,1,0,1,0,1], minutes = 3\n",
    "Output: 16\n",
    "Explanation: The bookstore owner keeps themselves not grumpy for the last 3 minutes. \n",
    "The maximum number of customers that can be satisfied = 1 + 1 + 1 + 1 + 7 + 5 = 16.\n",
    "Example 2:\n",
    "\n",
    "Input: customers = [1], grumpy = [0], minutes = 1\n",
    "Output: 1\n",
    " \n",
    "\n",
    "Constraints:\n",
    "\n",
    "n == customers.length == grumpy.length\n",
    "1 <= minutes <= n <= 2 * 104\n",
    "0 <= customers[i] <= 1000\n",
    "grumpy[i] is either 0 or 1."
   ]
  },
  {
   "cell_type": "markdown",
   "metadata": {},
   "source": [
    "## Problem Statement\n",
    "\n",
    "We need to maximize the number of satisfied customers in a bookstore given the customers, grumpy, and minutes arrays. The bookstore owner can use a secret technique to keep themselves not grumpy for `minutes` consecutive minutes, and this can only be used once."
   ]
  },
  {
   "cell_type": "markdown",
   "metadata": {},
   "source": [
    "### Step 1: Understand the Problem\n",
    "\n",
    "- We have two arrays: `customers` and `grumpy` of the same length `n`.\n",
    "\n",
    "- The array `customers` indicates the number of customers entering the store each minute.\n",
    "\n",
    "- The array `grumpy` indicates whether the owner is grumpy (1) or not (0) each minute.\n",
    "\n",
    "- We have a fixed `minutes` during which the owner can avoid being grumpy."
   ]
  },
  {
   "cell_type": "markdown",
   "metadata": {},
   "source": [
    "### Step 2: Explore Examples\n",
    "\n",
    "- Example 1:\n",
    "  - Input: `customers = [1, 0, 1, 2, 1, 1, 7, 5]`, `grumpy = [0, 1, 0, 1, 0, 1, 0, 1]`, `minutes = 3`\n",
    "  - Output: `16`\n",
    "\n",
    "- Example 2:\n",
    "  - Input: `customers = [1]`, `grumpy = [0]`, `minutes = 1`\n",
    "  - Output: `1`"
   ]
  },
  {
   "cell_type": "markdown",
   "metadata": {},
   "source": [
    "### Step 3: Plan a Solution\n",
    " \n",
    "1. **Base Satisfied Customers Calculation:**\n",
    "\n",
    "   - Calculate the number of satisfied customers when the owner is not grumpy.\n",
    "\n",
    "2. **Sliding Window Technique:**\n",
    "\n",
    "   - Use a sliding window of size `minutes` to find the maximum additional satisfied customers by applying the non-grumpy technique.\n",
    "\n",
    "   - For each window, calculate the extra customers that would be satisfied if the technique is used during that window."
   ]
  },
  {
   "cell_type": "markdown",
   "metadata": {},
   "source": [
    "### Step 4: Choose the Best Approach\n",
    "\n",
    "- Use the sliding window technique to calculate the maximum additional satisfied customers.\n",
    "\n",
    "- Combine the base satisfied customers with the additional customers from the best window to get the final result."
   ]
  },
  {
   "cell_type": "code",
   "execution_count": 1,
   "metadata": {},
   "outputs": [],
   "source": [
    "def maxSatisfied(customers, grumpy, minutes):\n",
    "    # Step 1: Calculate base satisfied customers without using the technique\n",
    "    base_satisfied = 0\n",
    "    for i in range(len(customers)):\n",
    "        if grumpy[i] == 0:\n",
    "            base_satisfied += customers[i]\n",
    "    \n",
    "    # Step 2: Calculate the additional customers that can be satisfied using the sliding window technique\n",
    "    max_additional_satisfied = 0\n",
    "    current_additional_satisfied = 0\n",
    "    \n",
    "    # Initial window\n",
    "    for i in range(minutes):\n",
    "        if grumpy[i] == 1:\n",
    "            current_additional_satisfied += customers[i]\n",
    "    \n",
    "    max_additional_satisfied = current_additional_satisfied\n",
    "    \n",
    "    # Slide the window across the rest of the array\n",
    "    for i in range(minutes, len(customers)):\n",
    "        if grumpy[i] == 1:\n",
    "            current_additional_satisfied += customers[i]\n",
    "        if grumpy[i - minutes] == 1:\n",
    "            current_additional_satisfied -= customers[i - minutes]\n",
    "        \n",
    "        max_additional_satisfied = max(max_additional_satisfied, current_additional_satisfied)\n",
    "    \n",
    "    # Total satisfied customers\n",
    "    return base_satisfied + max_additional_satisfied"
   ]
  },
  {
   "cell_type": "code",
   "execution_count": 2,
   "metadata": {},
   "outputs": [
    {
     "name": "stdout",
     "output_type": "stream",
     "text": [
      "16\n"
     ]
    }
   ],
   "source": [
    "# Example usage\n",
    "customers = [1, 0, 1, 2, 1, 1, 7, 5]\n",
    "grumpy = [0, 1, 0, 1, 0, 1, 0, 1]\n",
    "minutes = 3\n",
    "print(maxSatisfied(customers, grumpy, minutes))  # Output: 16"
   ]
  },
  {
   "cell_type": "markdown",
   "metadata": {},
   "source": [
    "### Step 6: Optimize and Reflect\n",
    "\n",
    "- The sliding window technique ensures the solution is efficient with O(n) time complexity.\n",
    "\n",
    "- Reflect on how the sliding window helped in optimizing the additional satisfied customers calculation."
   ]
  }
 ],
 "metadata": {
  "kernelspec": {
   "display_name": "Python 3",
   "language": "python",
   "name": "python3"
  },
  "language_info": {
   "codemirror_mode": {
    "name": "ipython",
    "version": 3
   },
   "file_extension": ".py",
   "mimetype": "text/x-python",
   "name": "python",
   "nbconvert_exporter": "python",
   "pygments_lexer": "ipython3",
   "version": "3.11.4"
  }
 },
 "nbformat": 4,
 "nbformat_minor": 2
}
