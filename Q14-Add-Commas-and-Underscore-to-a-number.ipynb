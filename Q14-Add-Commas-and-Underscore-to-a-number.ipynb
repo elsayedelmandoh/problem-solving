{
 "cells": [
  {
   "cell_type": "markdown",
   "id": "63d55c09",
   "metadata": {},
   "source": [
    "# Q14 Add Commas and Underscore to a number"
   ]
  },
  {
   "cell_type": "code",
   "execution_count": null,
   "id": "0841aa0b",
   "metadata": {},
   "outputs": [],
   "source": [
    "'''\n",
    "if 3 digit number , not need to add comma and underscore\n",
    "if 6 digit number, put underscore after 3 digit number\n",
    "if 9 digit number, put comma after 3 digit number and underscore after 6 digit number\n",
    "\n",
    "steps:\n",
    "take a number as input\n",
    "convert it to string into list\n",
    "count qual last 3 digits to insert underscore\n",
    "through loop from count - 3 digits to beginning number\n",
    "insert comma after 3 digit number\n",
    "'''"
   ]
  },
  {
   "cell_type": "code",
   "execution_count": null,
   "id": "94de3493",
   "metadata": {},
   "outputs": [],
   "source": [
    "def addCommasAndUnderscore(num):\n",
    "    if len(str(num)) > 3:\n",
    "        ls = list(str(num))\n",
    "        count = len(ls) - 3 # 4\n",
    "        ls.insert(count,'_')\n",
    "        if count > 3 :\n",
    "            for _ in ls[count-3::-3]:\n",
    "                count -= 3\n",
    "                if count != 0:\n",
    "                    ls.insert(count,',')\n",
    "                    \n",
    "            return ''.join(ls)\n",
    "        return ''.join(ls)\n",
    "    return num\n",
    "\n",
    "print(addCommasAndUnderscore(15))\n",
    "print(addCommasAndUnderscore(155))\n",
    "print(addCommasAndUnderscore(15555))\n",
    "print(addCommasAndUnderscore(1254345567556489))\n"
   ]
  },
  {
   "cell_type": "markdown",
   "id": "7061d41f",
   "metadata": {},
   "source": [
    "Another way"
   ]
  },
  {
   "cell_type": "code",
   "execution_count": null,
   "id": "d642e827",
   "metadata": {},
   "outputs": [],
   "source": [
    "def addCommasAndUnderscore(num):\n",
    "    formatted = f'{num:,}'\n",
    "    if len(formatted) > 3:\n",
    "        to_list = formatted.split(',')\n",
    "        first_part = to_list[:-1]\n",
    "        first_join= int(''.join(first_part))\n",
    "        first_format = f'{first_join:,}'\n",
    "        res = f'{first_format}_{to_list[-1]}'\n",
    "        return res\n",
    "    return formatted\n",
    "\n",
    "print(addCommasAndUnderscore(15))\n",
    "print(addCommasAndUnderscore(155))\n",
    "print(addCommasAndUnderscore(15555))\n",
    "print(addCommasAndUnderscore(1254345567556489))"
   ]
  }
 ],
 "metadata": {
  "language_info": {
   "name": "python"
  }
 },
 "nbformat": 4,
 "nbformat_minor": 5
}
