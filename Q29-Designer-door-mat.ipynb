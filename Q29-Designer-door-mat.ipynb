{
 "cells": [
  {
   "cell_type": "markdown",
   "id": "14888d65",
   "metadata": {},
   "source": [
    "# Q29 Designer door mat"
   ]
  },
  {
   "cell_type": "code",
   "execution_count": null,
   "id": "d10bfd8d",
   "metadata": {},
   "outputs": [],
   "source": [
    "row , col = map(int,input().split())\n",
    "pattern = '.|.'\n",
    "space = '-'\n",
    "text = 'WELCOME'\n",
    "for i in range(row//2):\n",
    "    print((pattern*(2*i+1)).center(col,space))\n"
   ]
  },
  {
   "cell_type": "code",
   "execution_count": null,
   "id": "f7be3860",
   "metadata": {},
   "outputs": [],
   "source": [
    "print(text.center(col,space))\n"
   ]
  },
  {
   "cell_type": "code",
   "execution_count": null,
   "id": "bfce5b4d",
   "metadata": {},
   "outputs": [],
   "source": [
    "\n",
    "for i in reversed(range(row//2)):\n",
    "    print((pattern*(2*i+1)).center(col,space))\n"
   ]
  }
 ],
 "metadata": {
  "language_info": {
   "name": "python"
  }
 },
 "nbformat": 4,
 "nbformat_minor": 5
}
