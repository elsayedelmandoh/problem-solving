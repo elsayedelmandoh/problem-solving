{
 "cells": [
  {
   "cell_type": "markdown",
   "id": "9ff74789",
   "metadata": {},
   "source": [
    "# Q25 Mutable and Immutable Objects"
   ]
  },
  {
   "cell_type": "code",
   "execution_count": null,
   "id": "d3bf9cdc",
   "metadata": {},
   "outputs": [],
   "source": [
    "def mutate_string(string, position, character):\n",
    "    ls = list(string)\n",
    "    ls[position] = character\n",
    "    string = ''.join(ls)\n",
    "    return string\n",
    "\n",
    "if __name__ == '__main__':\n",
    "    s = input()\n",
    "    i, c = input().split()\n",
    "    s_new = mutate_string(s, int(i), c)\n",
    "    print(s_new)"
   ]
  }
 ],
 "metadata": {
  "language_info": {
   "name": "python"
  }
 },
 "nbformat": 4,
 "nbformat_minor": 5
}
