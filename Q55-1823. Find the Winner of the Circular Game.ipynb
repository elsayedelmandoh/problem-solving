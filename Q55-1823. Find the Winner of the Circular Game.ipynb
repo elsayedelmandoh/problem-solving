{
 "cells": [
  {
   "cell_type": "markdown",
   "metadata": {},
   "source": [
    "# Q55- 1823. Find the Winner of the Circular Game"
   ]
  },
  {
   "cell_type": "markdown",
   "metadata": {},
   "source": [
    "1823. Find the Winner of the Circular Game\n",
    "Medium\n",
    "Topics\n",
    "Companies\n",
    "Hint\n",
    "There are n friends that are playing a game. The friends are sitting in a circle and are numbered from 1 to n in clockwise order. More formally, moving clockwise from the ith friend brings you to the (i+1)th friend for 1 <= i < n, and moving clockwise from the nth friend brings you to the 1st friend.\n",
    "\n",
    "The rules of the game are as follows:\n",
    "\n",
    "Start at the 1st friend.\n",
    "Count the next k friends in the clockwise direction including the friend you started at. The counting wraps around the circle and may count some friends more than once.\n",
    "The last friend you counted leaves the circle and loses the game.\n",
    "If there is still more than one friend in the circle, go back to step 2 starting from the friend immediately clockwise of the friend who just lost and repeat.\n",
    "Else, the last friend in the circle wins the game.\n",
    "Given the number of friends, n, and an integer k, return the winner of the game.\n",
    "\n",
    " \n",
    "\n",
    "Example 1:\n",
    "\n",
    "\n",
    "Input: n = 5, k = 2\n",
    "Output: 3\n",
    "Explanation: Here are the steps of the game:\n",
    "1) Start at friend 1.\n",
    "2) Count 2 friends clockwise, which are friends 1 and 2.\n",
    "3) Friend 2 leaves the circle. Next start is friend 3.\n",
    "4) Count 2 friends clockwise, which are friends 3 and 4.\n",
    "5) Friend 4 leaves the circle. Next start is friend 5.\n",
    "6) Count 2 friends clockwise, which are friends 5 and 1.\n",
    "7) Friend 1 leaves the circle. Next start is friend 3.\n",
    "8) Count 2 friends clockwise, which are friends 3 and 5.\n",
    "9) Friend 5 leaves the circle. Only friend 3 is left, so they are the winner.\n",
    "Example 2:\n",
    "\n",
    "Input: n = 6, k = 5\n",
    "Output: 1\n",
    "Explanation: The friends leave in this order: 5, 4, 6, 2, 3. The winner is friend 1.\n",
    " \n",
    "\n",
    "Constraints:\n",
    "\n",
    "1 <= k <= n <= 500"
   ]
  },
  {
   "cell_type": "markdown",
   "metadata": {},
   "source": [
    "### Solution Approach:\n",
    "\n",
    "1. **Base Case**:\n",
    "   - If there is only one person, that person is the winner.\n",
    "\n",
    "2. **Recursive Case**:\n",
    "   - If there are `n` people and the elimination number is `k`, the position of the winner can be found using the formula:\n",
    "     \\[\n",
    "     J(n, k) = (J(n-1, k) + k) \\% n\n",
    "     \\]\n",
    "   - Where `J(n-1, k)` represents the position of the winner among `n-1` people.\n",
    "\n",
    "3. **Initial Condition**:\n",
    "   - When there is only one person left, the winner is at position `0`.\n",
    "\n",
    "4. **Final Adjustment**:\n",
    "   - Since the positions are numbered starting from `1` (not `0`), the final position should be adjusted by adding `1` to the result.\n"
   ]
  },
  {
   "cell_type": "code",
   "execution_count": 1,
   "metadata": {},
   "outputs": [
    {
     "name": "stdout",
     "output_type": "stream",
     "text": [
      "3\n",
      "1\n"
     ]
    }
   ],
   "source": [
    "class Solution:\n",
    "    def findTheWinner(self, n: int, k: int) -> int:\n",
    "        def josephus(n, k):\n",
    "            if n == 1:\n",
    "                return 0\n",
    "            return (josephus(n - 1, k) + k) % n\n",
    "        \n",
    "        return josephus(n, k) + 1\n",
    "\n",
    "solution = Solution()\n",
    "print(solution.findTheWinner(5, 2))  # Output: 3\n",
    "print(solution.findTheWinner(6, 5))  # Output: 1"
   ]
  },
  {
   "cell_type": "markdown",
   "metadata": {},
   "source": [
    "### Explanation:\n",
    "\n",
    "1. **Base Case**:\n",
    "   - If there is only one person (`n = 1`), they are the winner, so return `0`.\n",
    "\n",
    "2. **Recursive Case**:\n",
    "   - The function `josephus(n-1, k)` is called to find the winner for `n-1` people. The result is then adjusted by adding `k` and taking modulo `n` to account for the circular nature of the problem.\n",
    "\n",
    "3. **Final Adjustment**:\n",
    "   - After computing the position using the Josephus problem formula, add `1` to convert from `0`-based indexing to `1`-based indexing.\n",
    "\n",
    "This solution is efficient and works within the given constraints, providing the correct position of the winner in O(n) time complexity."
   ]
  },
  {
   "cell_type": "markdown",
   "metadata": {},
   "source": []
  }
 ],
 "metadata": {
  "kernelspec": {
   "display_name": "Python 3",
   "language": "python",
   "name": "python3"
  },
  "language_info": {
   "codemirror_mode": {
    "name": "ipython",
    "version": 3
   },
   "file_extension": ".py",
   "mimetype": "text/x-python",
   "name": "python",
   "nbconvert_exporter": "python",
   "pygments_lexer": "ipython3",
   "version": "3.11.4"
  }
 },
 "nbformat": 4,
 "nbformat_minor": 2
}
