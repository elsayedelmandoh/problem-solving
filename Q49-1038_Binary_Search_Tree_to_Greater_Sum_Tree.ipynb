{
 "cells": [
  {
   "cell_type": "markdown",
   "metadata": {},
   "source": [
    "# Q49- 1038. Binary Search Tree to Greater Sum Tree"
   ]
  },
  {
   "cell_type": "markdown",
   "metadata": {},
   "source": [
    "1038. Binary Search Tree to Greater Sum Tree\n",
    "\n",
    "Medium\n",
    "Topics\n",
    "Companies\n",
    "Hint\n",
    "Given the root of a Binary Search Tree (BST), convert it to a Greater Tree such that every key of the original BST is changed to the original key plus the sum of all keys greater than the original key in BST.\n",
    "\n",
    "As a reminder, a binary search tree is a tree that satisfies these constraints:\n",
    "\n",
    "The left subtree of a node contains only nodes with keys less than the node's key.\n",
    "The right subtree of a node contains only nodes with keys greater than the node's key.\n",
    "Both the left and right subtrees must also be binary search trees.\n",
    " \n",
    "\n",
    "Example 1:\n",
    "\n",
    "\n",
    "Input: root = [4,1,6,0,2,5,7,null,null,null,3,null,null,null,8]\n",
    "Output: [30,36,21,36,35,26,15,null,null,null,33,null,null,null,8]\n",
    "Example 2:\n",
    "\n",
    "Input: root = [0,null,1]\n",
    "Output: [1,null,1]\n",
    " \n",
    "\n",
    "Constraints:\n",
    "\n",
    "The number of nodes in the tree is in the range [1, 100].\n",
    "0 <= Node.val <= 100\n",
    "All the values in the tree are unique."
   ]
  },
  {
   "cell_type": "markdown",
   "metadata": {},
   "source": [
    "### Steps to Solve the Problem\n",
    "\n",
    "1. **Reverse In-Order Traversal**: Perform a reverse in-order traversal of the tree, visiting nodes in the order: right subtree -> node -> left subtree. This order ensures that we visit nodes with greater values before smaller values.\n",
    "\n",
    "2. **Accumulate the Sum**: Maintain a running sum of all the node values visited so far. Update each node's value to the current value plus the running sum.\n",
    "\n",
    "3. **Update Node Values**: As we visit each node, update its value to include the sum of all greater node values.\n",
    "\n",
    "4. **Return the Modified Tree**: Once all nodes have been processed, return the modified tree."
   ]
  },
  {
   "cell_type": "code",
   "execution_count": 1,
   "metadata": {},
   "outputs": [],
   "source": [
    "class TreeNode:\n",
    "    def __init__(self, val=0, left=None, right=None):\n",
    "        self.val = val\n",
    "        self.left = left\n",
    "        self.right = right\n",
    "\n",
    "class Solution:\n",
    "    def bstToGst(self, root: TreeNode) -> TreeNode:\n",
    "        self.running_sum = 0\n",
    "        self.reverse_inorder_traversal(root)\n",
    "        return root\n",
    "    \n",
    "    def reverse_inorder_traversal(self, node: TreeNode):\n",
    "        if not node:\n",
    "            return\n",
    "        \n",
    "        # Traverse the right subtree first\n",
    "        if node.right:\n",
    "            self.reverse_inorder_traversal(node.right)\n",
    "        \n",
    "        # Update the current node's value\n",
    "        self.running_sum += node.val\n",
    "        node.val = self.running_sum\n",
    "        \n",
    "        # Traverse the left subtree\n",
    "        if node.left:\n",
    "            self.reverse_inorder_traversal(node.left)"
   ]
  },
  {
   "cell_type": "code",
   "execution_count": 2,
   "metadata": {},
   "outputs": [],
   "source": [
    "# Input: root = [4,1,6,0,2,5,7,null,null,null,3,null,null,null,8]\n",
    "# The tree will be constructed as follows:\n",
    "root = TreeNode(4)\n",
    "root.left = TreeNode(1)\n",
    "root.right = TreeNode(6)\n",
    "root.left.left = TreeNode(0)\n",
    "root.left.right = TreeNode(2)\n",
    "root.left.right.right = TreeNode(3)\n",
    "root.right.left = TreeNode(5)\n",
    "root.right.right = TreeNode(7)\n",
    "root.right.right.right = TreeNode(8)\n",
    "\n",
    "solution = Solution()\n",
    "new_root = solution.bstToGst(root)"
   ]
  },
  {
   "cell_type": "markdown",
   "metadata": {},
   "source": [
    "### Explanation of the Code\n",
    "\n",
    "1. **TreeNode Class**: This class defines the structure of a tree node.\n",
    "\n",
    "2. **Solution Class**:\n",
    "   - `bstToGst`: This method initializes the `running_sum` and starts the reverse in-order traversal from the root.\n",
    "   - `reverse_inorder_traversal`: This recursive method performs the reverse in-order traversal, updating the node values and the running sum.\n",
    "\n",
    "3. **Example Usage**: The provided example constructs a tree and converts it to a Greater Sum Tree using the `bstToGst` method.\n"
   ]
  }
 ],
 "metadata": {
  "kernelspec": {
   "display_name": "Python 3",
   "language": "python",
   "name": "python3"
  },
  "language_info": {
   "codemirror_mode": {
    "name": "ipython",
    "version": 3
   },
   "file_extension": ".py",
   "mimetype": "text/x-python",
   "name": "python",
   "nbconvert_exporter": "python",
   "pygments_lexer": "ipython3",
   "version": "3.11.4"
  }
 },
 "nbformat": 4,
 "nbformat_minor": 2
}
