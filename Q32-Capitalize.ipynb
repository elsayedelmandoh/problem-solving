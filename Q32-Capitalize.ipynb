{
 "cells": [
  {
   "cell_type": "markdown",
   "id": "dd89c8f5",
   "metadata": {},
   "source": [
    "# Q32 Capitalize"
   ]
  },
  {
   "cell_type": "code",
   "execution_count": null,
   "id": "47773870",
   "metadata": {},
   "outputs": [],
   "source": [
    "'''\n",
    "string.capwords\n",
    "It splits the given string using the split() method.\n",
    "It capitalizes every word using the capitalize() method. \n",
    "It joins the capitalized words into a single string using the join() method.\n",
    "'''"
   ]
  },
  {
   "cell_type": "code",
   "execution_count": null,
   "id": "8dd1f3f1",
   "metadata": {},
   "outputs": [],
   "source": [
    "import string\n",
    "def solve(s):\n",
    "    return string.capwords(s, ' ')\n",
    "# with all spaces\n",
    "print(solve(\"chris alan   5sdg5\")) # Chris Alan   5sdg5\n",
    "print(solve(\"    hello   world  lol\")) #      hello   world  lol\n",
    "\n",
    "def solve_without_space(s):\n",
    "    return string.capwords(s,)\n",
    "# remove spaces\n",
    "print(solve_without_space(\"chris    alan 5sdg5\")) # Chris Alan 5sdg5\n",
    "print(solve_without_space(\"    hello   world  lol\")) #      hello   world  lol\n",
    "\n"
   ]
  }
 ],
 "metadata": {
  "language_info": {
   "name": "python"
  }
 },
 "nbformat": 4,
 "nbformat_minor": 5
}
