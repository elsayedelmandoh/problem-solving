{
 "cells": [
  {
   "cell_type": "markdown",
   "id": "1b435f20",
   "metadata": {},
   "source": [
    "# Q9 Find Missing Letter in Sequence"
   ]
  },
  {
   "cell_type": "markdown",
   "id": "80cc0fbc",
   "metadata": {},
   "source": [
    "sudo code"
   ]
  },
  {
   "cell_type": "code",
   "execution_count": null,
   "id": "7a4c1902",
   "metadata": {},
   "outputs": [],
   "source": [
    "'''\n",
    "import string to retrun => 'abcdefghijklmnopqrstuvwxyz'\n",
    "def findMissingLetter(list):\n",
    "    loop zip(string.ascii_lowercase, list)\n",
    "    if string.ascii_lowercase[i] != list[i]:\n",
    "        return string.ascii_lowercase[i]\n",
    "'''"
   ]
  },
  {
   "cell_type": "code",
   "execution_count": null,
   "id": "eae454cc",
   "metadata": {},
   "outputs": [],
   "source": [
    "import string"
   ]
  },
  {
   "cell_type": "code",
   "execution_count": null,
   "id": "734f44f9",
   "metadata": {},
   "outputs": [],
   "source": [
    "def findMissingLetter(list):\n",
    "    for i in range(len(list)):\n",
    "        if string.ascii_lowercase[i] != list[i]:\n",
    "            return string.ascii_lowercase[i]\n",
    "    return \"No Missing Letter In List\"\n",
    "    \n",
    "list = 'abcdf'\n",
    "print(findMissingLetter(list))"
   ]
  },
  {
   "cell_type": "markdown",
   "id": "680bb074",
   "metadata": {},
   "source": [
    "another way"
   ]
  },
  {
   "cell_type": "code",
   "execution_count": null,
   "id": "5dd85850",
   "metadata": {},
   "outputs": [],
   "source": [
    "def find_missing_letter_in(givenLetters):\n",
    "  alpha = string.ascii_lowercase\n",
    "  start = alpha.index(givenLetters[0])\n",
    "  for letter in alpha[start:]:\n",
    "    if letter not in givenLetters:\n",
    "      return letter\n",
    "\n",
    "  return f\"No Missing Letter In Sequence\"\n",
    "\n",
    "print(find_missing_letter_in(\"abcdeghi\"))  # f"
   ]
  },
  {
   "cell_type": "code",
   "execution_count": null,
   "id": "15b869d9",
   "metadata": {},
   "outputs": [],
   "source": [
    "print(find_missing_letter_in(\"defgi\"))  # h"
   ]
  },
  {
   "cell_type": "code",
   "execution_count": null,
   "id": "3cd09b38",
   "metadata": {},
   "outputs": [],
   "source": [
    "print(find_missing_letter_in(\"xyz\"))  # No Missing Letter In Sequence"
   ]
  }
 ],
 "metadata": {
  "language_info": {
   "name": "python"
  }
 },
 "nbformat": 4,
 "nbformat_minor": 5
}
