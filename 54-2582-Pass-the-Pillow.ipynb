{
 "cells": [
  {
   "cell_type": "markdown",
   "metadata": {},
   "source": [
    "# Q54 - 2582. Pass the Pillow"
   ]
  },
  {
   "cell_type": "markdown",
   "metadata": {},
   "source": [
    "There are n people standing in a line labeled from 1 to n. The first person in the line is holding a pillow initially. Every second, the person holding the pillow passes it to the next person standing in the line. Once the pillow reaches the end of the line, the direction changes, and people continue passing the pillow in the opposite direction.\n",
    "\n",
    "For example, once the pillow reaches the nth person they pass it to the n - 1th person, then to the n - 2th person and so on.\n",
    "Given the two positive integers n and time, return the index of the person holding the pillow after time seconds.\n",
    "\n",
    " \n",
    "\n",
    "Example 1:\n",
    "\n",
    "Input: n = 4, time = 5\n",
    "Output: 2\n",
    "Explanation: People pass the pillow in the following way: 1 -> 2 -> 3 -> 4 -> 3 -> 2.\n",
    "After five seconds, the 2nd person is holding the pillow.\n",
    "Example 2:\n",
    "\n",
    "Input: n = 3, time = 2\n",
    "Output: 3\n",
    "Explanation: People pass the pillow in the following way: 1 -> 2 -> 3.\n",
    "After two seconds, the 3rd person is holding the pillow.\n",
    " \n",
    "\n",
    "Constraints:\n",
    "\n",
    "2 <= n <= 1000\n",
    "1 <= time <= 1000"
   ]
  },
  {
   "cell_type": "markdown",
   "metadata": {},
   "source": [
    "1. **Understand the Passing Pattern**:\n",
    "   - People pass the pillow in a sequence until it reaches the end and then reverses direction.\n",
    "   - For example, if `n = 4`:\n",
    "     - The passing sequence would be: `1 -> 2 -> 3 -> 4 -> 3 -> 2 -> 1 -> 2 -> 3 -> 4 -> ...` and so on.\n",
    "\n",
    "2. **Calculate the Effective Position**:\n",
    "   - We can determine the effective position of the pillow by understanding the repeating pattern. \n",
    "   - If `n` people are standing in line, the sequence of passing the pillow completes a full cycle (forward and backward) in `2 * (n - 1)` seconds.\n",
    "\n",
    "3. **Find the Position**:\n",
    "   - Using modulo operation, we can find the position in the current cycle:\n",
    "     - Calculate `time % (2 * (n - 1))` to get the position within the current cycle.\n",
    "     - If this value is less than `n`, it represents the forward pass.\n",
    "     - If it is greater than or equal to `n`, it represents the backward pass."
   ]
  },
  {
   "cell_type": "code",
   "execution_count": 1,
   "metadata": {},
   "outputs": [
    {
     "name": "stdout",
     "output_type": "stream",
     "text": [
      "2\n",
      "3\n"
     ]
    }
   ],
   "source": [
    "def find_pillow_holder(n: int, time: int) -> int:\n",
    "    cycle_length = 2 * (n - 1)\n",
    "    effective_time = time % cycle_length\n",
    "    \n",
    "    if effective_time < n:\n",
    "        return effective_time + 1\n",
    "    else:\n",
    "        return 2 * n - effective_time - 1\n",
    "\n",
    "# Example usage:\n",
    "n1, time1 = 4, 5\n",
    "print(find_pillow_holder(n1, time1))  # Output: 2\n",
    "\n",
    "n2, time2 = 3, 2\n",
    "print(find_pillow_holder(n2, time2))  # Output: 3"
   ]
  },
  {
   "cell_type": "markdown",
   "metadata": {},
   "source": [
    "### Explanation:\n",
    "\n",
    "1. **Cycle Calculation**:\n",
    "   - We first calculate the cycle length which is `2 * (n - 1)`. This is the total time it takes for the pillow to go from the first person to the last and back to the first person.\n",
    "\n",
    "2. **Effective Time Calculation**:\n",
    "   - Using modulo operation, `effective_time = time % cycle_length` gives us the position within the current cycle.\n",
    "\n",
    "3. **Determine the Position**:\n",
    "   - If `effective_time` is less than `n`, the pillow is still in the forward pass direction, so the position is `effective_time + 1`.\n",
    "   - If `effective_time` is greater than or equal to `n`, the pillow is in the backward pass direction, so the position is calculated as `2 * n - effective_time - 1`."
   ]
  }
 ],
 "metadata": {
  "kernelspec": {
   "display_name": "Python 3",
   "language": "python",
   "name": "python3"
  },
  "language_info": {
   "codemirror_mode": {
    "name": "ipython",
    "version": 3
   },
   "file_extension": ".py",
   "mimetype": "text/x-python",
   "name": "python",
   "nbconvert_exporter": "python",
   "pygments_lexer": "ipython3",
   "version": "3.11.4"
  }
 },
 "nbformat": 4,
 "nbformat_minor": 2
}
