{
 "cells": [
  {
   "cell_type": "markdown",
   "id": "9195640b",
   "metadata": {},
   "source": [
    "# Q34 The minion game"
   ]
  },
  {
   "cell_type": "code",
   "execution_count": null,
   "id": "b3e047db",
   "metadata": {},
   "outputs": [],
   "source": [
    "def minion_game(s):\n",
    "    player_1 = \"Kevin\"\n",
    "    player_2 = \"Stuart\"\n",
    "    kevin_score = 0\n",
    "    stuart_score = 0\n",
    "    ln_s = len(s) # 2\n",
    "    for i in range(len(s)): # 0 1\n",
    "        if s[i] in \"AEIOU\":\n",
    "            kevin_score += ln_s - i\n",
    "        else:\n",
    "            stuart_score +=ln_s - i\n",
    "    \n",
    "    if kevin_score > stuart_score:\n",
    "        print(f\"{player_1} {kevin_score}\")\n",
    "    elif stuart_score > kevin_score:\n",
    "        print(f\"{player_2} {stuart_score}\")\n",
    "    elif stuart_score == kevin_score:\n",
    "        print(\"Draw\")\n",
    "    else:\n",
    "        print(\"Draw\")\n",
    "\n",
    "if __name__ == '__main__':\n",
    "    # s = input()\n",
    "    s = 'B'\n",
    "    minion_game(s)"
   ]
  }
 ],
 "metadata": {
  "language_info": {
   "name": "python"
  }
 },
 "nbformat": 4,
 "nbformat_minor": 5
}
