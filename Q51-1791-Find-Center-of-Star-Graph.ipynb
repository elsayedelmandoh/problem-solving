{
 "cells": [
  {
   "cell_type": "markdown",
   "metadata": {},
   "source": [
    "# Q51- 1791. Find Center of Star Graph"
   ]
  },
  {
   "cell_type": "markdown",
   "metadata": {},
   "source": [
    "1791. Find Center of Star Graph\n",
    "Easy\n",
    "Topics\n",
    "Companies\n",
    "Hint\n",
    "There is an undirected star graph consisting of n nodes labeled from 1 to n. A star graph is a graph where there is one center node and exactly n - 1 edges that connect the center node with every other node.\n",
    "\n",
    "You are given a 2D integer array edges where each edges[i] = [ui, vi] indicates that there is an edge between the nodes ui and vi. Return the center of the given star graph.\n",
    "\n",
    " \n",
    "\n",
    "Example 1:\n",
    "\n",
    "\n",
    "Input: edges = [[1,2],[2,3],[4,2]]\n",
    "Output: 2\n",
    "Explanation: As shown in the figure above, node 2 is connected to every other node, so 2 is the center.\n",
    "Example 2:\n",
    "\n",
    "Input: edges = [[1,2],[5,1],[1,3],[1,4]]\n",
    "Output: 1\n",
    " \n",
    "\n",
    "Constraints:\n",
    "\n",
    "3 <= n <= 105\n",
    "edges.length == n - 1\n",
    "edges[i].length == 2\n",
    "1 <= ui, vi <= n\n",
    "ui != vi\n",
    "The given edges represent a valid star graph."
   ]
  },
  {
   "cell_type": "markdown",
   "metadata": {},
   "source": [
    "1. Look at the first two edges.\n",
    "\n",
    "2. The common node between these two edges will be the center of the star graph."
   ]
  },
  {
   "cell_type": "markdown",
   "metadata": {},
   "source": [
    "To find the center of a star graph, you can leverage the properties of the star graph itself. A star graph has one central node that is connected to all other nodes, and every other node is connected only to this central node. Thus, in the given list of edges, the central node will appear in every edge.\n"
   ]
  },
  {
   "cell_type": "code",
   "execution_count": 1,
   "metadata": {},
   "outputs": [],
   "source": [
    "class Solution:\n",
    "    def findCenter(self, edges: list[list[int]]) -> int:\n",
    "        # Get the nodes of the first two edges\n",
    "        u1, v1 = edges[0]\n",
    "        u2, v2 = edges[1]\n",
    "        \n",
    "        # The center node will be the common node between these two edges\n",
    "        if u1 == u2 or u1 == v2:\n",
    "            return u1\n",
    "        return v1"
   ]
  },
  {
   "cell_type": "code",
   "execution_count": 2,
   "metadata": {},
   "outputs": [
    {
     "name": "stdout",
     "output_type": "stream",
     "text": [
      "2\n",
      "1\n"
     ]
    }
   ],
   "source": [
    "solution = Solution()\n",
    "edges1 = [[1, 2], [2, 3], [4, 2]]\n",
    "print(solution.findCenter(edges1))  # Output: 2\n",
    "\n",
    "edges2 = [[1, 2], [5, 1], [1, 3], [1, 4]]\n",
    "print(solution.findCenter(edges2))  # Output: 1"
   ]
  },
  {
   "cell_type": "markdown",
   "metadata": {},
   "source": [
    "### Explanation\n",
    "\n",
    "1. **Get the Nodes of the First Two Edges**: \n",
    "   - We look at the first two edges in the list. For the first edge, we get the nodes `u1` and `v1`. For the second edge, we get the nodes `u2` and `v2`.\n",
    "   \n",
    "2. **Find the Common Node**: \n",
    "   - Since the center node must be connected to all other nodes, it will be one of the nodes in both of these edges.\n",
    "   - We check if `u1` (one of the nodes from the first edge) is equal to either `u2` or `v2` (the nodes from the second edge).\n",
    "   - If it is, `u1` is the center node.\n",
    "   - Otherwise, `v1` (the other node from the first edge) must be the center node.\n"
   ]
  }
 ],
 "metadata": {
  "kernelspec": {
   "display_name": "Python 3",
   "language": "python",
   "name": "python3"
  },
  "language_info": {
   "codemirror_mode": {
    "name": "ipython",
    "version": 3
   },
   "file_extension": ".py",
   "mimetype": "text/x-python",
   "name": "python",
   "nbconvert_exporter": "python",
   "pygments_lexer": "ipython3",
   "version": "3.11.4"
  }
 },
 "nbformat": 4,
 "nbformat_minor": 2
}
