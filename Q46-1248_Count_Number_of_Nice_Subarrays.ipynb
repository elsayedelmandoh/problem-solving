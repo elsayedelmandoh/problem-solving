{
 "cells": [
  {
   "cell_type": "markdown",
   "metadata": {},
   "source": [
    "# Q45- 1248. Count Number of Nice Subarrays"
   ]
  },
  {
   "cell_type": "markdown",
   "metadata": {},
   "source": [
    "1248. Count Number of Nice Subarrays\n",
    "\n",
    "Medium\n",
    "Topics\n",
    "Companies\n",
    "Hint\n",
    "Given an array of integers nums and an integer k. A continuous subarray is called nice if there are k odd numbers on it.\n",
    "\n",
    "Return the number of nice sub-arrays.\n",
    "\n",
    " \n",
    "\n",
    "Example 1:\n",
    "\n",
    "Input: nums = [1,1,2,1,1], k = 3\n",
    "Output: 2\n",
    "Explanation: The only sub-arrays with 3 odd numbers are [1,1,2,1] and [1,2,1,1].\n",
    "Example 2:\n",
    "\n",
    "Input: nums = [2,4,6], k = 1\n",
    "Output: 0\n",
    "Explanation: There are no odd numbers in the array.\n",
    "Example 3:\n",
    "\n",
    "Input: nums = [2,2,2,1,2,2,1,2,2,2], k = 2\n",
    "Output: 16\n",
    " \n",
    "\n",
    "Constraints:\n",
    "\n",
    "1 <= nums.length <= 50000\n",
    "1 <= nums[i] <= 10^5\n",
    "1 <= k <= nums.length"
   ]
  },
  {
   "cell_type": "markdown",
   "metadata": {},
   "source": [
    "### 1. Understand the Problem\n",
    "- We need to find all continuous subarrays with exactly `k` odd numbers.\n",
    "- The array `nums` contains integers, and we need to count subarrays where the number of odd integers is exactly `k`."
   ]
  },
  {
   "cell_type": "markdown",
   "metadata": {},
   "source": [
    "### 2. Explore Examples\n",
    "- Example 1:\n",
    "  - Input: `nums = [1,1,2,1,1]`, `k = 3`\n",
    "  - Output: `2`\n",
    "  - Explanation: The subarrays with 3 odd numbers are `[1,1,2,1]` and `[1,2,1,1]`.\n",
    "- Example 2:\n",
    "  - Input: `nums = [2,4,6]`, `k = 1`\n",
    "  - Output: `0`\n",
    "  - Explanation: There are no odd numbers in the array.\n",
    "- Example 3:\n",
    "  - Input: `nums = [2,2,2,1,2,2,1,2,2,2]`, `k = 2`\n",
    "  - Output: `16`\n",
    "  - Explanation: There are multiple subarrays with exactly 2 odd numbers.\n",
    "\n"
   ]
  },
  {
   "cell_type": "markdown",
   "metadata": {},
   "source": [
    "### 3. Plan a Solution\n",
    "1. **Use a Hash Map (or Dictionary):**\n",
    "   - We can use a hash map to keep track of the count of subarrays with a certain number of odd numbers.\n",
    "   - The key idea is to use a prefix sum-like approach to count the number of subarrays ending at each position with exactly `k` odd numbers.\n",
    "\n",
    "2. **Prefix Sum Technique:**\n",
    "   - Keep a running count of the number of odd numbers encountered so far (`current_odd_count`).\n",
    "   - Use a hash map to store the frequency of `current_odd_count`.\n",
    "   - For each element in the array, check if there exists a subarray with exactly `k` odd numbers by checking the hash map for `current_odd_count - k`.\n"
   ]
  },
  {
   "cell_type": "code",
   "execution_count": 1,
   "metadata": {},
   "outputs": [],
   "source": [
    "def numberOfSubarrays(nums, k):\n",
    "    # HashMap to store the count of prefix sums\n",
    "    prefix_counts = {0: 1}\n",
    "    current_odd_count = 0\n",
    "    nice_subarray_count = 0\n",
    "\n",
    "    for num in nums:\n",
    "        if num % 2 == 1:\n",
    "            current_odd_count += 1\n",
    "\n",
    "        # Check if there exists a subarray with exactly k odd numbers\n",
    "        if current_odd_count - k in prefix_counts:\n",
    "            nice_subarray_count += prefix_counts[current_odd_count - k]\n",
    "\n",
    "        # Update the prefix sum count in the hash map\n",
    "        if current_odd_count in prefix_counts:\n",
    "            prefix_counts[current_odd_count] += 1\n",
    "        else:\n",
    "            prefix_counts[current_odd_count] = 1\n",
    "\n",
    "    return nice_subarray_count"
   ]
  },
  {
   "cell_type": "code",
   "execution_count": 2,
   "metadata": {},
   "outputs": [
    {
     "name": "stdout",
     "output_type": "stream",
     "text": [
      "2\n",
      "0\n",
      "16\n"
     ]
    }
   ],
   "source": [
    "nums1 = [1,1,2,1,1]\n",
    "k1 = 3\n",
    "print(numberOfSubarrays(nums1, k1))  # Output: 2\n",
    "\n",
    "nums2 = [2,4,6]\n",
    "k2 = 1\n",
    "print(numberOfSubarrays(nums2, k2))  # Output: 0\n",
    "\n",
    "nums3 = [2,2,2,1,2,2,1,2,2,2]\n",
    "k3 = 2\n",
    "print(numberOfSubarrays(nums3, k3))  # Output: 16"
   ]
  },
  {
   "cell_type": "markdown",
   "metadata": {},
   "source": [
    "### Explanation of the Code:\n",
    "\n",
    "1. **HashMap Initialization:**\n",
    "   - `prefix_counts` keeps track of the frequency of prefix sums.\n",
    "   - Initialize it with `{0: 1}` because a prefix sum of `0` occurs once initially.\n",
    "\n",
    "2. **Iterate through the Array:**\n",
    "   - For each number in `nums`, check if it is odd.\n",
    "   - Update the `current_odd_count` accordingly.\n",
    "\n",
    "3. **Check for Nice Subarrays:**\n",
    "   - For each element, check if `(current_odd_count - k)` exists in the hash map.\n",
    "   - If it exists, it means there are subarrays ending at the current position with exactly `k` odd numbers.\n",
    "\n",
    "4. **Update HashMap:**\n",
    "   - Update the hash map with the current prefix sum (`current_odd_count`).\n"
   ]
  },
  {
   "cell_type": "markdown",
   "metadata": {},
   "source": []
  }
 ],
 "metadata": {
  "kernelspec": {
   "display_name": "Python 3",
   "language": "python",
   "name": "python3"
  },
  "language_info": {
   "codemirror_mode": {
    "name": "ipython",
    "version": 3
   },
   "file_extension": ".py",
   "mimetype": "text/x-python",
   "name": "python",
   "nbconvert_exporter": "python",
   "pygments_lexer": "ipython3",
   "version": "3.11.4"
  }
 },
 "nbformat": 4,
 "nbformat_minor": 2
}
