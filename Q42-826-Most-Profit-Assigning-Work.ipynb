{
 "cells": [
  {
   "cell_type": "markdown",
   "id": "a332bcab",
   "metadata": {},
   "source": [
    "# Q42 - 826. Most Profit Assigning Work"
   ]
  },
  {
   "cell_type": "markdown",
   "id": "31cd730d",
   "metadata": {},
   "source": [
    "### Problem Breakdown\n",
    "\n",
    "1. **Understanding the Inputs and Outputs**:\n",
    "   - We have `n` jobs characterized by their `difficulty` and `profit`.\n",
    "   \n",
    "   - We have `m` workers characterized by their ability (i.e., maximum difficulty of the job they can complete).\n",
    "\n",
    "   - We need to assign jobs to workers such that the total profit is maximized.\n",
    "\n",
    "2. **Constraints**:\n",
    "   - Each worker can be assigned at most one job.\n",
    "   - A job can be assigned to multiple workers.\n",
    "   - If a worker can't complete any job, their profit is `0`."
   ]
  },
  {
   "cell_type": "markdown",
   "id": "c0e38b37",
   "metadata": {},
   "source": [
    "### Steps to Solve the Problem\n",
    "\n",
    "1. **Sort Jobs and Workers**:\n",
    "\n",
    "   - Sort the jobs based on their difficulty.\n",
    "\n",
    "   - Sort the workers based on their ability.\n",
    "\n",
    "2. **Greedy Approach**:\n",
    "   - Traverse through the sorted workers and assign them the best possible job they can complete to maximize their profit.\n",
    "\n",
    "   - Use a pointer to keep track of the most profitable job that each worker can do."
   ]
  },
  {
   "cell_type": "markdown",
   "id": "86201057",
   "metadata": {},
   "source": [
    "### Detailed Solution with Code\n",
    "\n",
    "1. **Sort jobs by difficulty and sort workers by ability**.\n",
    "\n",
    "2. **Iterate through each worker** and keep track of the maximum profit for the job they can do.\n",
    "\n",
    "3. **Sum up the total profit** for all workers."
   ]
  },
  {
   "cell_type": "code",
   "execution_count": null,
   "id": "6b02a29d",
   "metadata": {},
   "outputs": [
    {
     "name": "stdout",
     "output_type": "stream",
     "text": [
      "100\n",
      "0\n"
     ]
    }
   ],
   "source": [
    "class Solution:\n",
    "    def maxProfitAssignment(self, difficulty, profit, worker) -> int:\n",
    "        # Combine difficulty and profit into tuples and sort by difficulty\n",
    "        jobs = sorted(zip(difficulty, profit))\n",
    "        # Sort workers by their ability\n",
    "        worker.sort()\n",
    "\n",
    "        # Initialize pointers and variables\n",
    "        max_profit = 0\n",
    "        total_profit = 0\n",
    "        j = 0\n",
    "\n",
    "        # Iterate over each worker\n",
    "        for ability in worker:\n",
    "            # Update the max profit for the jobs the worker can do\n",
    "            while j < len(jobs) and jobs[j][0] <= ability:\n",
    "                max_profit = max(max_profit, jobs[j][1])\n",
    "                j += 1\n",
    "            # Add the max profit for this worker to the total profit\n",
    "            total_profit += max_profit\n",
    "\n",
    "        return total_profit\n",
    "\n",
    "obj = Solution()\n",
    "# Example usage:\n",
    "difficulty = [2, 4, 6, 8, 10]\n",
    "profit = [10, 20, 30, 40, 50]\n",
    "worker = [4, 5, 6, 7]\n",
    "print(obj.maxProfitAssignment(difficulty, profit, worker))  # Output: 100\n",
    "\n",
    "# Additional test cases\n",
    "difficulty = [85, 47, 57]\n",
    "profit = [24, 66, 99]\n",
    "worker = [40, 25, 25]\n",
    "print(obj.maxProfitAssignment(difficulty, profit, worker))  # Output: 0"
   ]
  },
  {
   "cell_type": "markdown",
   "id": "c6fcef58",
   "metadata": {},
   "source": [
    "### Explanation of the Solution\n",
    "\n",
    "1. **Sorting**:\n",
    "\n",
    "   - `jobs` is a list of tuples where each tuple contains the difficulty and profit of a job, sorted by difficulty.\n",
    "\n",
    "   - `worker` is sorted to facilitate assigning the best possible job for each worker in a single pass.\n",
    "\n",
    "2. **Using Pointers**:\n",
    "   \n",
    "   - `j` is a pointer that tracks the current job we are considering for the worker.\n",
    "   \n",
    "   - `max_profit` keeps track of the highest profit of jobs that the current worker can complete.\n",
    "\n",
    "3. **Greedy Assignment**:\n",
    "   \n",
    "   - For each worker, while the worker's ability is greater than or equal to the job's difficulty, update `max_profit` with the highest profit seen so far.\n",
    "   \n",
    "   - Add the `max_profit` to `total_profit` for each worker."
   ]
  }
 ],
 "metadata": {
  "language_info": {
   "name": "python"
  }
 },
 "nbformat": 4,
 "nbformat_minor": 5
}
