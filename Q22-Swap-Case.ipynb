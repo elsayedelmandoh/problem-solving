{
 "cells": [
  {
   "cell_type": "markdown",
   "id": "122a8134",
   "metadata": {},
   "source": [
    "# Q22 Swap Case"
   ]
  },
  {
   "cell_type": "code",
   "execution_count": null,
   "id": "1fcae7e2",
   "metadata": {},
   "outputs": [],
   "source": [
    "def swap_case(s):\n",
    "    return s.swapcase()\n",
    "\n",
    "#-- Main --#\n",
    "if __name__ == '__main__':\n",
    "    print(swap_case(\"HelLo RiO 'rIo'\"))"
   ]
  }
 ],
 "metadata": {
  "language_info": {
   "name": "python"
  }
 },
 "nbformat": 4,
 "nbformat_minor": 5
}
