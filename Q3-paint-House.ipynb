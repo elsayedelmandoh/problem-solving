{
 "cells": [
  {
   "cell_type": "markdown",
   "id": "ece8f208",
   "metadata": {},
   "source": [
    "# Q3 Leetcode - 7 august, 2022 - Hard\n",
    "\n",
    "solution Problem paint House ||| and then create method mincost(self,houses,cost,m,n,target) from calss Solution"
   ]
  },
  {
   "cell_type": "code",
   "execution_count": null,
   "id": "b0aa27cc",
   "metadata": {},
   "outputs": [],
   "source": [
    "class Solution(object):\n",
    "    def minCost(self, A, cost, m, n, target):\n",
    "        dp, dp2 = {(0, 0): 0}, {}\n",
    "        for i, a in enumerate(A):\n",
    "            for cj in (range(1, n + 1) if a == 0 else [a]):\n",
    "                for ci, b in dp:\n",
    "                    b2 = b + (ci != cj)\n",
    "                    if b2 > target: continue\n",
    "                    dp2[cj, b2] = min(dp2.get((cj,b2), float('inf')), dp[ci, b] + (cost[i][cj - 1] if cj != a else 0))\n",
    "            dp, dp2 = dp2, {}\n",
    "        return min([dp[c, b] for c, b in dp if b == target] or [-1])\n",
    "obj1 = Solution()\n",
    "print(obj1.minCost([0,0,0,0,0],[[1,10],[10,1],[10,1],[1,10],[5,1]],5,2,3))"
   ]
  }
 ],
 "metadata": {
  "language_info": {
   "name": "python"
  }
 },
 "nbformat": 4,
 "nbformat_minor": 5
}
