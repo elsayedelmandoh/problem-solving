{
 "cells": [
  {
   "cell_type": "markdown",
   "id": "6d2b90ee",
   "metadata": {},
   "source": [
    "# Q15 Loops"
   ]
  },
  {
   "cell_type": "code",
   "execution_count": null,
   "id": "c38faaeb",
   "metadata": {},
   "outputs": [],
   "source": [
    "'''\n",
    "The provided code stub reads and integer ,n  , from STDIN. For all non-negative integers i < n , print i**2. \n",
    "'''"
   ]
  },
  {
   "cell_type": "code",
   "execution_count": null,
   "id": "9ac3884e",
   "metadata": {},
   "outputs": [],
   "source": [
    "if __name__ == '__main__':\n",
    "    n = int(input())\n",
    "    while n > 0:\n",
    "        for i in range(n):\n",
    "            print(i**2)\n",
    "        break"
   ]
  }
 ],
 "metadata": {
  "language_info": {
   "name": "python"
  }
 },
 "nbformat": 4,
 "nbformat_minor": 5
}
