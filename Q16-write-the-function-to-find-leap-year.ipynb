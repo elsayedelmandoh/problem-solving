{
 "cells": [
  {
   "cell_type": "markdown",
   "id": "ab365609",
   "metadata": {},
   "source": [
    "# Q16 write the function to find leap year"
   ]
  },
  {
   "cell_type": "code",
   "execution_count": null,
   "id": "febb47c5",
   "metadata": {},
   "outputs": [],
   "source": [
    "'''\n",
    "find leap year\n",
    "year % 4 == 0 and year % 100 != 0 or year % 400 == 0\n",
    "'''"
   ]
  },
  {
   "cell_type": "code",
   "execution_count": null,
   "id": "7babc437",
   "metadata": {},
   "outputs": [],
   "source": [
    "def is_leap(year):\n",
    "    leap = False\n",
    "    \n",
    "    # Write your logic here\n",
    "    if year % 4 == 0 and year % 100 != 0 or year % 400 == 0:\n",
    "        leap = True\n",
    "    return leap\n",
    "\n",
    "year = int(input())\n",
    "print(is_leap(year))"
   ]
  }
 ],
 "metadata": {
  "language_info": {
   "name": "python"
  }
 },
 "nbformat": 4,
 "nbformat_minor": 5
}
