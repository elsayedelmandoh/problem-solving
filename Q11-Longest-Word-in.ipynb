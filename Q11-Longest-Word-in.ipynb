{
 "cells": [
  {
   "cell_type": "markdown",
   "id": "85aa8176",
   "metadata": {},
   "source": [
    "# Q11 Longest Word in"
   ]
  },
  {
   "cell_type": "code",
   "execution_count": null,
   "id": "32700cb5",
   "metadata": {},
   "outputs": [],
   "source": [
    "'''\n",
    "take a string as input\n",
    "split the string \n",
    "loop through the string\n",
    "set longest word is first word\n",
    "check if current word is longer than first word\n",
    "set longest word to current word\n",
    "'''"
   ]
  },
  {
   "cell_type": "code",
   "execution_count": null,
   "id": "88edde07",
   "metadata": {},
   "outputs": [],
   "source": [
    "def longestWord(string):\n",
    "    ls = list(string.split())\n",
    "    longest = ls[0]\n",
    "    for word in ls:\n",
    "        if len(word) > len(longest):\n",
    "            longest = word\n",
    "    return longest\n",
    "\n",
    "print(longestWord(\"The quick brown fox jumps over the lazzzzzzzzzzy dog\"))"
   ]
  },
  {
   "cell_type": "markdown",
   "id": "9d8e8395",
   "metadata": {},
   "source": [
    "another way"
   ]
  },
  {
   "cell_type": "code",
   "execution_count": null,
   "id": "46297a23",
   "metadata": {},
   "outputs": [],
   "source": [
    "def longest_word_in(sentence):\n",
    "  count = 0\n",
    "  words_list = sentence.split(\" \")\n",
    "  for word in words_list:\n",
    "    if len(word) > count:\n",
    "      count = len(word)\n",
    "      longest = word\n",
    "  return longest"
   ]
  },
  {
   "cell_type": "markdown",
   "id": "26324e6d",
   "metadata": {},
   "source": [
    "another way"
   ]
  },
  {
   "cell_type": "code",
   "execution_count": null,
   "id": "ad6ab785",
   "metadata": {},
   "outputs": [],
   "source": [
    "def longest_word_in(sentence):\n",
    "  longest = \"\"\n",
    "  words_list = sentence.split(\" \")\n",
    "  for word in words_list:\n",
    "    if len(word) > len(longest):\n",
    "      longest = word\n",
    "  return longest\n",
    "\n",
    "# Testing Ouput\n",
    "print(longest_word_in(\"In Programming We Love Elzero Academy Tooooooooooo Much\")) # Tooooooooooo"
   ]
  }
 ],
 "metadata": {
  "language_info": {
   "name": "python"
  }
 },
 "nbformat": 4,
 "nbformat_minor": 5
}
