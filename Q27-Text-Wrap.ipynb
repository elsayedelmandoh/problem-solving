{
 "cells": [
  {
   "cell_type": "markdown",
   "id": "51367e6f",
   "metadata": {},
   "source": [
    "# Q27 Text Wrap"
   ]
  },
  {
   "cell_type": "code",
   "execution_count": null,
   "id": "626f7906",
   "metadata": {},
   "outputs": [],
   "source": [
    "# import textwrap as tw\n",
    "# s = '''\\\n",
    "#     Hello\n",
    "#     world\n",
    "# '''\n",
    "# print(tw.indent(s, '+ ', lambda line: True))\n",
    "'''\n",
    "+ hello+\n",
    "+\n",
    "+ world\n",
    "'''"
   ]
  },
  {
   "cell_type": "code",
   "execution_count": null,
   "id": "4749317e",
   "metadata": {},
   "outputs": [],
   "source": [
    "import textwrap as tw\n"
   ]
  },
  {
   "cell_type": "code",
   "execution_count": null,
   "id": "6cbec872",
   "metadata": {},
   "outputs": [],
   "source": [
    "def wrap(string, max_width):\n",
    "    new_str = tw.fill(string,max_width)\n",
    "    return new_str\n",
    "if __name__ == '__main__':\n",
    "    string, max_width = input(), int(input())\n",
    "    result = wrap(string, max_width)\n",
    "    print(result)\n"
   ]
  }
 ],
 "metadata": {
  "language_info": {
   "name": "python"
  }
 },
 "nbformat": 4,
 "nbformat_minor": 5
}
