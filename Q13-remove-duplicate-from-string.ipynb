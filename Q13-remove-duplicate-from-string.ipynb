{
 "cells": [
  {
   "cell_type": "markdown",
   "id": "57d34000",
   "metadata": {},
   "source": [
    "# Q13 remove duplicate from string "
   ]
  },
  {
   "cell_type": "code",
   "execution_count": null,
   "id": "fbf9640f",
   "metadata": {},
   "outputs": [],
   "source": [
    "'''\n",
    "take a string as input\n",
    "split the string as list\n",
    "filter the list to remove duplicate\n",
    "return the list as string after joining the list\n",
    "'''"
   ]
  },
  {
   "cell_type": "code",
   "execution_count": null,
   "id": "67dacabf",
   "metadata": {},
   "outputs": [],
   "source": [
    "def removeDuplicate(string):\n",
    "    words = list(string.split()) # ['hello', 'hello', 'rio', 'rio']\n",
    "    for word in words:\n",
    "        if word in words:\n",
    "            words.remove(word)\n",
    "    return \" \".join(words)\n",
    "\n",
    "print(removeDuplicate(\"hello hello rio rio \"))"
   ]
  },
  {
   "cell_type": "markdown",
   "id": "f775c68d",
   "metadata": {},
   "source": [
    "Another way"
   ]
  },
  {
   "cell_type": "code",
   "execution_count": null,
   "id": "00f94625",
   "metadata": {},
   "outputs": [],
   "source": [
    "def remove_duplicate_words_from(sentence):\n",
    "  words_list = sentence.split(\" \")\n",
    "  result = []\n",
    "  for word in words_list:\n",
    "    if word not in result:\n",
    "      result.append(word)\n",
    "  return \" \".join(result)\n",
    "\n",
    "# Testing Ouput\n",
    "print(remove_duplicate_words_from(\"Hello Elzero Web Web Hello School\"))"
   ]
  },
  {
   "cell_type": "markdown",
   "id": "7ab8c776",
   "metadata": {},
   "source": [
    "Another way"
   ]
  },
  {
   "cell_type": "code",
   "execution_count": null,
   "id": "786d4601",
   "metadata": {},
   "outputs": [],
   "source": [
    "def remove_duplicate_words_from(sentence):\n",
    "  words_list = sentence.split(\" \")\n",
    "  unique_only = list(dict.fromkeys(words_list)) # not duplicate words\n",
    "  final_result = \" \".join(unique_only)\n",
    "  return final_result\n",
    "\n",
    "# Testing Ouput\n",
    "print(remove_duplicate_words_from(\"Hello Elzero Web Web Hello School\"))\n",
    "# Hello Elzero Web School"
   ]
  },
  {
   "cell_type": "markdown",
   "id": "a8df181d",
   "metadata": {},
   "source": [
    "Another way"
   ]
  },
  {
   "cell_type": "code",
   "execution_count": null,
   "id": "4754c7ee",
   "metadata": {},
   "outputs": [],
   "source": [
    "def remove_duplicate_words_from(sentence):\n",
    "  return \" \".join(list(dict.fromkeys(sentence.split(\" \"))))\n",
    "\n",
    "# Testing Ouput\n",
    "print(remove_duplicate_words_from(\"Hello Elzero Web Web Hello School\"))\n",
    "# Hello Elzero Web School\n"
   ]
  }
 ],
 "metadata": {
  "language_info": {
   "name": "python"
  }
 },
 "nbformat": 4,
 "nbformat_minor": 5
}
